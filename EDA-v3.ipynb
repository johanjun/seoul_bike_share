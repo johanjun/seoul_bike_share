{
 "cells": [
  {
   "cell_type": "code",
   "execution_count": 1,
   "metadata": {
    "ExecuteTime": {
     "end_time": "2021-06-28T05:16:50.408601Z",
     "start_time": "2021-06-28T05:16:46.200574Z"
    }
   },
   "outputs": [],
   "source": [
    "import pymysql\n",
    "import pickle\n",
    "import numpy as np\n",
    "import pandas as pd\n",
    "import missingno as msno\n",
    "import matplotlib.pyplot as plt\n",
    "plt.rcParams['axes.unicode_minus'] = False\n",
    "plt.rc('font', family='AppleGothic')\n",
    "import seaborn as sns\n",
    "from tqdm import tqdm\n",
    "import googlemaps\n",
    "import folium\n",
    "import geopy\n",
    "from geopy.geocoders import Nominatim\n",
    "import geopandas\n",
    "pw_path = '/Users/johanjun/🔐/'"
   ]
  },
  {
   "cell_type": "markdown",
   "metadata": {},
   "source": [
    "# data merge"
   ]
  },
  {
   "cell_type": "code",
   "execution_count": 2,
   "metadata": {
    "ExecuteTime": {
     "end_time": "2021-06-28T06:43:18.858848Z",
     "start_time": "2021-06-28T06:43:14.739259Z"
    }
   },
   "outputs": [],
   "source": [
    "with open('/Users/johanjun/Documents/2021/seoul_bike_share/data/df_JANtoMAR_2020.pkl', 'rb') as f:\n",
    "    df_JANtoMAR = pickle.load(f)"
   ]
  },
  {
   "cell_type": "code",
   "execution_count": 5,
   "metadata": {
    "ExecuteTime": {
     "end_time": "2021-06-28T06:43:23.937506Z",
     "start_time": "2021-06-28T06:43:23.911215Z"
    }
   },
   "outputs": [
    {
     "data": {
      "text/html": [
       "<div>\n",
       "<style scoped>\n",
       "    .dataframe tbody tr th:only-of-type {\n",
       "        vertical-align: middle;\n",
       "    }\n",
       "\n",
       "    .dataframe tbody tr th {\n",
       "        vertical-align: top;\n",
       "    }\n",
       "\n",
       "    .dataframe thead th {\n",
       "        text-align: right;\n",
       "    }\n",
       "</style>\n",
       "<table border=\"1\" class=\"dataframe\">\n",
       "  <thead>\n",
       "    <tr style=\"text-align: right;\">\n",
       "      <th></th>\n",
       "      <th>rent_date</th>\n",
       "      <th>rent_hour</th>\n",
       "      <th>station_no</th>\n",
       "      <th>station_name</th>\n",
       "      <th>rent_type</th>\n",
       "      <th>sex</th>\n",
       "      <th>age_type</th>\n",
       "      <th>rent_count</th>\n",
       "      <th>momentum</th>\n",
       "      <th>green</th>\n",
       "      <th>distance</th>\n",
       "      <th>use_time</th>\n",
       "    </tr>\n",
       "  </thead>\n",
       "  <tbody>\n",
       "    <tr>\n",
       "      <th>0</th>\n",
       "      <td>2020-01-01</td>\n",
       "      <td>0</td>\n",
       "      <td>1044</td>\n",
       "      <td>1044. 굽은다리역</td>\n",
       "      <td>정기권</td>\n",
       "      <td></td>\n",
       "      <td>~10대</td>\n",
       "      <td>1</td>\n",
       "      <td>33.96</td>\n",
       "      <td>0.30</td>\n",
       "      <td>1280.0</td>\n",
       "      <td>6</td>\n",
       "    </tr>\n",
       "    <tr>\n",
       "      <th>1</th>\n",
       "      <td>2020-01-01</td>\n",
       "      <td>0</td>\n",
       "      <td>1656</td>\n",
       "      <td>1656. 중앙하이츠 아파트 입구</td>\n",
       "      <td>정기권</td>\n",
       "      <td></td>\n",
       "      <td>~10대</td>\n",
       "      <td>1</td>\n",
       "      <td>40.15</td>\n",
       "      <td>0.39</td>\n",
       "      <td>1690.0</td>\n",
       "      <td>6</td>\n",
       "    </tr>\n",
       "    <tr>\n",
       "      <th>2</th>\n",
       "      <td>2020-01-01</td>\n",
       "      <td>0</td>\n",
       "      <td>1337</td>\n",
       "      <td>1337. 돈암성당 옆</td>\n",
       "      <td>정기권</td>\n",
       "      <td></td>\n",
       "      <td>~10대</td>\n",
       "      <td>1</td>\n",
       "      <td>80.88</td>\n",
       "      <td>0.50</td>\n",
       "      <td>2150.0</td>\n",
       "      <td>12</td>\n",
       "    </tr>\n",
       "    <tr>\n",
       "      <th>3</th>\n",
       "      <td>2020-01-01</td>\n",
       "      <td>0</td>\n",
       "      <td>1984</td>\n",
       "      <td>1984. 구로구청</td>\n",
       "      <td>정기권</td>\n",
       "      <td></td>\n",
       "      <td>~10대</td>\n",
       "      <td>1</td>\n",
       "      <td>47.36</td>\n",
       "      <td>0.43</td>\n",
       "      <td>1840.0</td>\n",
       "      <td>25</td>\n",
       "    </tr>\n",
       "    <tr>\n",
       "      <th>4</th>\n",
       "      <td>2020-01-01</td>\n",
       "      <td>0</td>\n",
       "      <td>2601</td>\n",
       "      <td>2601. 석촌호수 서호사거리</td>\n",
       "      <td>정기권</td>\n",
       "      <td></td>\n",
       "      <td>~10대</td>\n",
       "      <td>1</td>\n",
       "      <td>29.34</td>\n",
       "      <td>0.26</td>\n",
       "      <td>1140.0</td>\n",
       "      <td>5</td>\n",
       "    </tr>\n",
       "  </tbody>\n",
       "</table>\n",
       "</div>"
      ],
      "text/plain": [
       "    rent_date  rent_hour  station_no        station_name rent_type sex  \\\n",
       "0  2020-01-01          0        1044         1044. 굽은다리역       정기권       \n",
       "1  2020-01-01          0        1656  1656. 중앙하이츠 아파트 입구       정기권       \n",
       "2  2020-01-01          0        1337        1337. 돈암성당 옆       정기권       \n",
       "3  2020-01-01          0        1984          1984. 구로구청       정기권       \n",
       "4  2020-01-01          0        2601    2601. 석촌호수 서호사거리       정기권       \n",
       "\n",
       "  age_type  rent_count  momentum  green  distance  use_time  \n",
       "0     ~10대           1     33.96   0.30    1280.0         6  \n",
       "1     ~10대           1     40.15   0.39    1690.0         6  \n",
       "2     ~10대           1     80.88   0.50    2150.0        12  \n",
       "3     ~10대           1     47.36   0.43    1840.0        25  \n",
       "4     ~10대           1     29.34   0.26    1140.0         5  "
      ]
     },
     "execution_count": 5,
     "metadata": {},
     "output_type": "execute_result"
    }
   ],
   "source": [
    "df_JANtoMAR.head()"
   ]
  },
  {
   "cell_type": "code",
   "execution_count": 6,
   "metadata": {
    "ExecuteTime": {
     "end_time": "2021-06-28T06:43:27.020335Z",
     "start_time": "2021-06-28T06:43:27.015467Z"
    }
   },
   "outputs": [
    {
     "data": {
      "text/plain": [
       "(2658188, 12)"
      ]
     },
     "execution_count": 6,
     "metadata": {},
     "output_type": "execute_result"
    }
   ],
   "source": [
    "df_JANtoMAR.shape"
   ]
  },
  {
   "cell_type": "code",
   "execution_count": 7,
   "metadata": {
    "ExecuteTime": {
     "end_time": "2021-06-28T07:08:04.882906Z",
     "start_time": "2021-06-28T07:08:01.404418Z"
    }
   },
   "outputs": [],
   "source": [
    "with open('/Users/johanjun/Documents/2021/seoul_bike_share/data/df_APR_2020.pkl', 'rb') as f:\n",
    "    df_APR_2020 = pickle.load(f)"
   ]
  },
  {
   "cell_type": "code",
   "execution_count": 8,
   "metadata": {
    "ExecuteTime": {
     "end_time": "2021-06-28T07:08:06.013607Z",
     "start_time": "2021-06-28T07:08:05.989283Z"
    }
   },
   "outputs": [
    {
     "data": {
      "text/html": [
       "<div>\n",
       "<style scoped>\n",
       "    .dataframe tbody tr th:only-of-type {\n",
       "        vertical-align: middle;\n",
       "    }\n",
       "\n",
       "    .dataframe tbody tr th {\n",
       "        vertical-align: top;\n",
       "    }\n",
       "\n",
       "    .dataframe thead th {\n",
       "        text-align: right;\n",
       "    }\n",
       "</style>\n",
       "<table border=\"1\" class=\"dataframe\">\n",
       "  <thead>\n",
       "    <tr style=\"text-align: right;\">\n",
       "      <th></th>\n",
       "      <th>rent_date</th>\n",
       "      <th>rent_hour</th>\n",
       "      <th>station_no</th>\n",
       "      <th>station_name</th>\n",
       "      <th>rent_type</th>\n",
       "      <th>sex</th>\n",
       "      <th>age_type</th>\n",
       "      <th>rent_count</th>\n",
       "      <th>momentum</th>\n",
       "      <th>green</th>\n",
       "      <th>distance</th>\n",
       "      <th>use_time</th>\n",
       "    </tr>\n",
       "  </thead>\n",
       "  <tbody>\n",
       "    <tr>\n",
       "      <th>0</th>\n",
       "      <td>2020-04-01</td>\n",
       "      <td>0</td>\n",
       "      <td>1036</td>\n",
       "      <td>1036. 고덕동 주양쇼핑</td>\n",
       "      <td>정기권</td>\n",
       "      <td></td>\n",
       "      <td>~10대</td>\n",
       "      <td>1</td>\n",
       "      <td>69.19</td>\n",
       "      <td>0.63</td>\n",
       "      <td>2730.0</td>\n",
       "      <td>14</td>\n",
       "    </tr>\n",
       "    <tr>\n",
       "      <th>1</th>\n",
       "      <td>2020-04-01</td>\n",
       "      <td>0</td>\n",
       "      <td>1044</td>\n",
       "      <td>1044. 굽은다리역</td>\n",
       "      <td>정기권</td>\n",
       "      <td></td>\n",
       "      <td>~10대</td>\n",
       "      <td>1</td>\n",
       "      <td>36.88</td>\n",
       "      <td>0.32</td>\n",
       "      <td>1390.0</td>\n",
       "      <td>17</td>\n",
       "    </tr>\n",
       "    <tr>\n",
       "      <th>2</th>\n",
       "      <td>2020-04-01</td>\n",
       "      <td>0</td>\n",
       "      <td>1447</td>\n",
       "      <td>1447. 면목역 3번출구</td>\n",
       "      <td>정기권</td>\n",
       "      <td></td>\n",
       "      <td>~10대</td>\n",
       "      <td>1</td>\n",
       "      <td>0.00</td>\n",
       "      <td>0.00</td>\n",
       "      <td>0.0</td>\n",
       "      <td>8</td>\n",
       "    </tr>\n",
       "    <tr>\n",
       "      <th>3</th>\n",
       "      <td>2020-04-01</td>\n",
       "      <td>0</td>\n",
       "      <td>513</td>\n",
       "      <td>513. 뚝섬역 5번 출구 정류소 옆</td>\n",
       "      <td>정기권</td>\n",
       "      <td></td>\n",
       "      <td>~10대</td>\n",
       "      <td>1</td>\n",
       "      <td>81.08</td>\n",
       "      <td>0.73</td>\n",
       "      <td>3150.0</td>\n",
       "      <td>13</td>\n",
       "    </tr>\n",
       "    <tr>\n",
       "      <th>4</th>\n",
       "      <td>2020-04-01</td>\n",
       "      <td>0</td>\n",
       "      <td>1650</td>\n",
       "      <td>1650. 중계근린공원내</td>\n",
       "      <td>정기권</td>\n",
       "      <td></td>\n",
       "      <td>~10대</td>\n",
       "      <td>1</td>\n",
       "      <td>28.31</td>\n",
       "      <td>0.30</td>\n",
       "      <td>1300.0</td>\n",
       "      <td>0</td>\n",
       "    </tr>\n",
       "  </tbody>\n",
       "</table>\n",
       "</div>"
      ],
      "text/plain": [
       "    rent_date  rent_hour  station_no          station_name rent_type sex  \\\n",
       "0  2020-04-01          0        1036        1036. 고덕동 주양쇼핑       정기권       \n",
       "1  2020-04-01          0        1044           1044. 굽은다리역       정기권       \n",
       "2  2020-04-01          0        1447        1447. 면목역 3번출구       정기권       \n",
       "3  2020-04-01          0         513  513. 뚝섬역 5번 출구 정류소 옆       정기권       \n",
       "4  2020-04-01          0        1650         1650. 중계근린공원내       정기권       \n",
       "\n",
       "  age_type  rent_count  momentum  green  distance  use_time  \n",
       "0     ~10대           1     69.19   0.63    2730.0        14  \n",
       "1     ~10대           1     36.88   0.32    1390.0        17  \n",
       "2     ~10대           1      0.00   0.00       0.0         8  \n",
       "3     ~10대           1     81.08   0.73    3150.0        13  \n",
       "4     ~10대           1     28.31   0.30    1300.0         0  "
      ]
     },
     "execution_count": 8,
     "metadata": {},
     "output_type": "execute_result"
    }
   ],
   "source": [
    "df_APR_2020.head()"
   ]
  },
  {
   "cell_type": "code",
   "execution_count": 10,
   "metadata": {
    "ExecuteTime": {
     "end_time": "2021-06-28T07:08:08.897453Z",
     "start_time": "2021-06-28T07:08:08.891854Z"
    }
   },
   "outputs": [
    {
     "data": {
      "text/plain": [
       "(1726248, 12)"
      ]
     },
     "execution_count": 10,
     "metadata": {},
     "output_type": "execute_result"
    }
   ],
   "source": [
    "df_APR_2020.shape"
   ]
  },
  {
   "cell_type": "code",
   "execution_count": 11,
   "metadata": {
    "ExecuteTime": {
     "end_time": "2021-06-28T07:10:06.129007Z",
     "start_time": "2021-06-28T07:10:02.404946Z"
    }
   },
   "outputs": [
    {
     "data": {
      "text/plain": [
       "(1928598, 12)"
      ]
     },
     "execution_count": 11,
     "metadata": {},
     "output_type": "execute_result"
    }
   ],
   "source": [
    "with open('/Users/johanjun/Documents/2021/seoul_bike_share/data/df_MAY_2020.pkl', 'rb') as f:\n",
    "    df_MAY_2020 = pickle.load(f)\n",
    "df_MAY_2020.shape"
   ]
  },
  {
   "cell_type": "code",
   "execution_count": 13,
   "metadata": {
    "ExecuteTime": {
     "end_time": "2021-06-28T07:10:29.053137Z",
     "start_time": "2021-06-28T07:10:26.118540Z"
    }
   },
   "outputs": [
    {
     "data": {
      "text/plain": [
       "(2207965, 12)"
      ]
     },
     "execution_count": 13,
     "metadata": {},
     "output_type": "execute_result"
    }
   ],
   "source": [
    "with open('/Users/johanjun/Documents/2021/seoul_bike_share/data/df_JUN_2020.pkl', 'rb') as f:\n",
    "    df_JUN_2020 = pickle.load(f)\n",
    "df_JUN_2020.shape"
   ]
  },
  {
   "cell_type": "code",
   "execution_count": 14,
   "metadata": {
    "ExecuteTime": {
     "end_time": "2021-06-28T07:10:48.044268Z",
     "start_time": "2021-06-28T07:10:43.470834Z"
    }
   },
   "outputs": [
    {
     "data": {
      "text/plain": [
       "(2084802, 12)"
      ]
     },
     "execution_count": 14,
     "metadata": {},
     "output_type": "execute_result"
    }
   ],
   "source": [
    "with open('/Users/johanjun/Documents/2021/seoul_bike_share/data/df_JUL_2020.pkl', 'rb') as f:\n",
    "    df_JUL_2020 = pickle.load(f)\n",
    "df_JUL_2020.shape"
   ]
  },
  {
   "cell_type": "code",
   "execution_count": 15,
   "metadata": {
    "ExecuteTime": {
     "end_time": "2021-06-28T07:10:52.519069Z",
     "start_time": "2021-06-28T07:10:49.911738Z"
    }
   },
   "outputs": [
    {
     "data": {
      "text/plain": [
       "(1516052, 12)"
      ]
     },
     "execution_count": 15,
     "metadata": {},
     "output_type": "execute_result"
    }
   ],
   "source": [
    "with open('/Users/johanjun/Documents/2021/seoul_bike_share/data/df_AUG_2020.pkl', 'rb') as f:\n",
    "    df_AUG_2020 = pickle.load(f)\n",
    "df_AUG_2020.shape"
   ]
  },
  {
   "cell_type": "code",
   "execution_count": 16,
   "metadata": {
    "ExecuteTime": {
     "end_time": "2021-06-28T07:11:02.680720Z",
     "start_time": "2021-06-28T07:10:57.684762Z"
    }
   },
   "outputs": [
    {
     "data": {
      "text/plain": [
       "(2266939, 12)"
      ]
     },
     "execution_count": 16,
     "metadata": {},
     "output_type": "execute_result"
    }
   ],
   "source": [
    "with open('/Users/johanjun/Documents/2021/seoul_bike_share/data/df_SEP_2020.pkl', 'rb') as f:\n",
    "    df_SEP_2020 = pickle.load(f)\n",
    "df_SEP_2020.shape"
   ]
  },
  {
   "cell_type": "code",
   "execution_count": 17,
   "metadata": {
    "ExecuteTime": {
     "end_time": "2021-06-28T07:11:10.738045Z",
     "start_time": "2021-06-28T07:11:06.372041Z"
    }
   },
   "outputs": [
    {
     "data": {
      "text/plain": [
       "(2361954, 12)"
      ]
     },
     "execution_count": 17,
     "metadata": {},
     "output_type": "execute_result"
    }
   ],
   "source": [
    "with open('/Users/johanjun/Documents/2021/seoul_bike_share/data/df_OCT_2020.pkl', 'rb') as f:\n",
    "    df_OCT_2020 = pickle.load(f)\n",
    "df_OCT_2020.shape"
   ]
  },
  {
   "cell_type": "code",
   "execution_count": 36,
   "metadata": {
    "ExecuteTime": {
     "end_time": "2021-06-28T07:29:02.170640Z",
     "start_time": "2021-06-28T07:28:59.846075Z"
    },
    "scrolled": true
   },
   "outputs": [
    {
     "data": {
      "text/plain": [
       "(1726639, 12)"
      ]
     },
     "execution_count": 36,
     "metadata": {},
     "output_type": "execute_result"
    }
   ],
   "source": [
    "with open('/Users/johanjun/Documents/2021/seoul_bike_share/data/df_NOV_2020.pkl', 'rb') as f:\n",
    "    df_NOV_2020 = pickle.load(f)\n",
    "df_NOV_2020.shape"
   ]
  },
  {
   "cell_type": "code",
   "execution_count": 37,
   "metadata": {
    "ExecuteTime": {
     "end_time": "2021-06-28T07:29:08.892260Z",
     "start_time": "2021-06-28T07:29:07.440099Z"
    }
   },
   "outputs": [
    {
     "data": {
      "text/plain": [
       "(1087211, 12)"
      ]
     },
     "execution_count": 37,
     "metadata": {},
     "output_type": "execute_result"
    }
   ],
   "source": [
    "with open('/Users/johanjun/Documents/2021/seoul_bike_share/data/df_DEC_2020.pkl', 'rb') as f:\n",
    "    df_DEC_2020 = pickle.load(f)\n",
    "df_DEC_2020.shape"
   ]
  },
  {
   "cell_type": "code",
   "execution_count": 38,
   "metadata": {
    "ExecuteTime": {
     "end_time": "2021-06-28T07:29:37.167477Z",
     "start_time": "2021-06-28T07:29:36.915101Z"
    }
   },
   "outputs": [
    {
     "data": {
      "text/plain": [
       "array([datetime.date(2020, 4, 1), datetime.date(2020, 4, 2),\n",
       "       datetime.date(2020, 4, 3), datetime.date(2020, 4, 4),\n",
       "       datetime.date(2020, 4, 5), datetime.date(2020, 4, 6),\n",
       "       datetime.date(2020, 4, 7), datetime.date(2020, 4, 8),\n",
       "       datetime.date(2020, 4, 9), datetime.date(2020, 4, 10),\n",
       "       datetime.date(2020, 4, 11), datetime.date(2020, 4, 12),\n",
       "       datetime.date(2020, 4, 13), datetime.date(2020, 4, 14),\n",
       "       datetime.date(2020, 4, 15), datetime.date(2020, 4, 16),\n",
       "       datetime.date(2020, 4, 17), datetime.date(2020, 4, 18),\n",
       "       datetime.date(2020, 4, 19), datetime.date(2020, 4, 20),\n",
       "       datetime.date(2020, 4, 21), datetime.date(2020, 4, 22),\n",
       "       datetime.date(2020, 4, 23), datetime.date(2020, 4, 24),\n",
       "       datetime.date(2020, 4, 25), datetime.date(2020, 4, 26),\n",
       "       datetime.date(2020, 4, 27), datetime.date(2020, 4, 28),\n",
       "       datetime.date(2020, 4, 29), datetime.date(2020, 4, 30),\n",
       "       datetime.date(2020, 5, 1)], dtype=object)"
      ]
     },
     "execution_count": 38,
     "metadata": {},
     "output_type": "execute_result"
    }
   ],
   "source": [
    "df_APR_2020['rent_date'].unique()"
   ]
  },
  {
   "cell_type": "code",
   "execution_count": 41,
   "metadata": {
    "ExecuteTime": {
     "end_time": "2021-06-28T07:31:53.453947Z",
     "start_time": "2021-06-28T07:31:53.449994Z"
    }
   },
   "outputs": [],
   "source": [
    "import datetime"
   ]
  },
  {
   "cell_type": "code",
   "execution_count": 48,
   "metadata": {
    "ExecuteTime": {
     "end_time": "2021-06-28T08:06:36.742869Z",
     "start_time": "2021-06-28T08:06:34.165964Z"
    }
   },
   "outputs": [],
   "source": [
    "df_4_5 = pd.concat([df_APR_2020[df_APR_2020.rent_date != datetime.date(2020, 5, 1)],\n",
    "                   df_MAY_2020[df_MAY_2020.rent_date != datetime.date(2020, 6, 1)]],\n",
    "                   ignore_index=True)"
   ]
  },
  {
   "cell_type": "code",
   "execution_count": 50,
   "metadata": {
    "ExecuteTime": {
     "end_time": "2021-06-28T08:07:27.845424Z",
     "start_time": "2021-06-28T08:07:25.668945Z"
    }
   },
   "outputs": [
    {
     "data": {
      "text/plain": [
       "((1659278, 12), (1855477, 12), (3514755, 12))"
      ]
     },
     "execution_count": 50,
     "metadata": {},
     "output_type": "execute_result"
    }
   ],
   "source": [
    "df_APR_2020[df_APR_2020.rent_date != datetime.date(2020, 5, 1)].shape, df_MAY_2020[df_MAY_2020.rent_date != datetime.date(2020, 6, 1)].shape, df_4_5.shape"
   ]
  },
  {
   "cell_type": "code",
   "execution_count": 10,
   "metadata": {
    "ExecuteTime": {
     "end_time": "2021-06-17T02:27:38.313712Z",
     "start_time": "2021-06-17T02:27:38.187888Z"
    }
   },
   "outputs": [],
   "source": [
    "df_station_info = pd.read_csv('data/station.csv')"
   ]
  },
  {
   "cell_type": "code",
   "execution_count": 11,
   "metadata": {
    "ExecuteTime": {
     "end_time": "2021-06-17T02:27:39.665318Z",
     "start_time": "2021-06-17T02:27:39.641483Z"
    },
    "scrolled": true
   },
   "outputs": [
    {
     "data": {
      "text/html": [
       "<div>\n",
       "<style scoped>\n",
       "    .dataframe tbody tr th:only-of-type {\n",
       "        vertical-align: middle;\n",
       "    }\n",
       "\n",
       "    .dataframe tbody tr th {\n",
       "        vertical-align: top;\n",
       "    }\n",
       "\n",
       "    .dataframe thead th {\n",
       "        text-align: right;\n",
       "    }\n",
       "</style>\n",
       "<table border=\"1\" class=\"dataframe\">\n",
       "  <thead>\n",
       "    <tr style=\"text-align: right;\">\n",
       "      <th></th>\n",
       "      <th>station_no</th>\n",
       "      <th>station_name</th>\n",
       "      <th>gu</th>\n",
       "      <th>address</th>\n",
       "      <th>lat</th>\n",
       "      <th>lon</th>\n",
       "      <th>est</th>\n",
       "      <th>capa(LCD)</th>\n",
       "      <th>capa(QR)</th>\n",
       "      <th>opration_type</th>\n",
       "    </tr>\n",
       "  </thead>\n",
       "  <tbody>\n",
       "    <tr>\n",
       "      <th>0</th>\n",
       "      <td>301</td>\n",
       "      <td>경복궁역 7번출구 앞</td>\n",
       "      <td>종로구</td>\n",
       "      <td>서울특별시 종로구 사직로 지하130</td>\n",
       "      <td>37.575794</td>\n",
       "      <td>126.971451</td>\n",
       "      <td>2015-10-07</td>\n",
       "      <td>16.0</td>\n",
       "      <td>NaN</td>\n",
       "      <td>LCD</td>\n",
       "    </tr>\n",
       "    <tr>\n",
       "      <th>1</th>\n",
       "      <td>302</td>\n",
       "      <td>경복궁역 4번출구 뒤</td>\n",
       "      <td>종로구</td>\n",
       "      <td>서울특별시 종로구 사직로 지하130</td>\n",
       "      <td>37.575947</td>\n",
       "      <td>126.974060</td>\n",
       "      <td>2015-10-07</td>\n",
       "      <td>12.0</td>\n",
       "      <td>NaN</td>\n",
       "      <td>LCD</td>\n",
       "    </tr>\n",
       "    <tr>\n",
       "      <th>2</th>\n",
       "      <td>303</td>\n",
       "      <td>광화문역 1번출구 앞</td>\n",
       "      <td>종로구</td>\n",
       "      <td>서울특별시 종로구 세종대로 지하189</td>\n",
       "      <td>37.571770</td>\n",
       "      <td>126.974663</td>\n",
       "      <td>2015-10-07</td>\n",
       "      <td>8.0</td>\n",
       "      <td>NaN</td>\n",
       "      <td>LCD</td>\n",
       "    </tr>\n",
       "    <tr>\n",
       "      <th>3</th>\n",
       "      <td>304</td>\n",
       "      <td>광화문역 2번출구 앞</td>\n",
       "      <td>종로구</td>\n",
       "      <td>서울특별시 종로구 세종대로 지하172</td>\n",
       "      <td>37.572113</td>\n",
       "      <td>126.977577</td>\n",
       "      <td>2021-01-26</td>\n",
       "      <td>NaN</td>\n",
       "      <td>7.0</td>\n",
       "      <td>QR</td>\n",
       "    </tr>\n",
       "    <tr>\n",
       "      <th>4</th>\n",
       "      <td>305</td>\n",
       "      <td>종로구청 옆</td>\n",
       "      <td>종로구</td>\n",
       "      <td>서울특별시 종로구 삼봉로 43</td>\n",
       "      <td>37.572582</td>\n",
       "      <td>126.978355</td>\n",
       "      <td>2015-10-07</td>\n",
       "      <td>16.0</td>\n",
       "      <td>NaN</td>\n",
       "      <td>LCD</td>\n",
       "    </tr>\n",
       "  </tbody>\n",
       "</table>\n",
       "</div>"
      ],
      "text/plain": [
       "   station_no station_name   gu               address        lat         lon  \\\n",
       "0         301  경복궁역 7번출구 앞  종로구   서울특별시 종로구 사직로 지하130  37.575794  126.971451   \n",
       "1         302  경복궁역 4번출구 뒤  종로구   서울특별시 종로구 사직로 지하130  37.575947  126.974060   \n",
       "2         303  광화문역 1번출구 앞  종로구  서울특별시 종로구 세종대로 지하189  37.571770  126.974663   \n",
       "3         304  광화문역 2번출구 앞  종로구  서울특별시 종로구 세종대로 지하172  37.572113  126.977577   \n",
       "4         305       종로구청 옆  종로구      서울특별시 종로구 삼봉로 43  37.572582  126.978355   \n",
       "\n",
       "          est  capa(LCD)  capa(QR) opration_type  \n",
       "0  2015-10-07       16.0       NaN           LCD  \n",
       "1  2015-10-07       12.0       NaN           LCD  \n",
       "2  2015-10-07        8.0       NaN           LCD  \n",
       "3  2021-01-26        NaN       7.0            QR  \n",
       "4  2015-10-07       16.0       NaN           LCD  "
      ]
     },
     "execution_count": 11,
     "metadata": {},
     "output_type": "execute_result"
    }
   ],
   "source": [
    "df_station_info.head()"
   ]
  },
  {
   "cell_type": "code",
   "execution_count": 12,
   "metadata": {
    "ExecuteTime": {
     "end_time": "2021-06-17T02:27:45.554919Z",
     "start_time": "2021-06-17T02:27:45.524413Z"
    }
   },
   "outputs": [
    {
     "name": "stdout",
     "output_type": "stream",
     "text": [
      "<class 'pandas.core.frame.DataFrame'>\n",
      "RangeIndex: 2154 entries, 0 to 2153\n",
      "Data columns (total 10 columns):\n",
      " #   Column         Non-Null Count  Dtype  \n",
      "---  ------         --------------  -----  \n",
      " 0   station_no     2154 non-null   int64  \n",
      " 1   station_name   2154 non-null   object \n",
      " 2   gu             2154 non-null   object \n",
      " 3   address        2154 non-null   object \n",
      " 4   lat            2042 non-null   float64\n",
      " 5   lon            2042 non-null   float64\n",
      " 6   est            2152 non-null   object \n",
      " 7   capa(LCD)      1482 non-null   float64\n",
      " 8   capa(QR)       671 non-null    float64\n",
      " 9   opration_type  2154 non-null   object \n",
      "dtypes: float64(4), int64(1), object(5)\n",
      "memory usage: 168.4+ KB\n"
     ]
    }
   ],
   "source": [
    "df_station_info.info()"
   ]
  },
  {
   "cell_type": "code",
   "execution_count": 25,
   "metadata": {
    "ExecuteTime": {
     "end_time": "2021-06-17T02:32:15.141315Z",
     "start_time": "2021-06-17T02:32:15.132029Z"
    }
   },
   "outputs": [
    {
     "data": {
      "text/html": [
       "<div>\n",
       "<style scoped>\n",
       "    .dataframe tbody tr th:only-of-type {\n",
       "        vertical-align: middle;\n",
       "    }\n",
       "\n",
       "    .dataframe tbody tr th {\n",
       "        vertical-align: top;\n",
       "    }\n",
       "\n",
       "    .dataframe thead th {\n",
       "        text-align: right;\n",
       "    }\n",
       "</style>\n",
       "<table border=\"1\" class=\"dataframe\">\n",
       "  <thead>\n",
       "    <tr style=\"text-align: right;\">\n",
       "      <th></th>\n",
       "      <th>station_no</th>\n",
       "      <th>address</th>\n",
       "      <th>gu</th>\n",
       "    </tr>\n",
       "  </thead>\n",
       "  <tbody>\n",
       "    <tr>\n",
       "      <th>0</th>\n",
       "      <td>301</td>\n",
       "      <td>서울특별시 종로구 사직로 지하130</td>\n",
       "      <td>종로구</td>\n",
       "    </tr>\n",
       "    <tr>\n",
       "      <th>1</th>\n",
       "      <td>302</td>\n",
       "      <td>서울특별시 종로구 사직로 지하130</td>\n",
       "      <td>종로구</td>\n",
       "    </tr>\n",
       "    <tr>\n",
       "      <th>2</th>\n",
       "      <td>303</td>\n",
       "      <td>서울특별시 종로구 세종대로 지하189</td>\n",
       "      <td>종로구</td>\n",
       "    </tr>\n",
       "    <tr>\n",
       "      <th>3</th>\n",
       "      <td>304</td>\n",
       "      <td>서울특별시 종로구 세종대로 지하172</td>\n",
       "      <td>종로구</td>\n",
       "    </tr>\n",
       "    <tr>\n",
       "      <th>4</th>\n",
       "      <td>305</td>\n",
       "      <td>서울특별시 종로구 삼봉로 43</td>\n",
       "      <td>종로구</td>\n",
       "    </tr>\n",
       "  </tbody>\n",
       "</table>\n",
       "</div>"
      ],
      "text/plain": [
       "   station_no               address   gu\n",
       "0         301   서울특별시 종로구 사직로 지하130  종로구\n",
       "1         302   서울특별시 종로구 사직로 지하130  종로구\n",
       "2         303  서울특별시 종로구 세종대로 지하189  종로구\n",
       "3         304  서울특별시 종로구 세종대로 지하172  종로구\n",
       "4         305      서울특별시 종로구 삼봉로 43  종로구"
      ]
     },
     "execution_count": 25,
     "metadata": {},
     "output_type": "execute_result"
    }
   ],
   "source": [
    "df_station_info_address = df_station_info.loc[:, ['station_no', 'address','gu']]\n",
    "df_station_info_address.head()"
   ]
  },
  {
   "cell_type": "code",
   "execution_count": 26,
   "metadata": {
    "ExecuteTime": {
     "end_time": "2021-06-17T02:32:20.144622Z",
     "start_time": "2021-06-17T02:32:18.506868Z"
    }
   },
   "outputs": [
    {
     "data": {
      "text/html": [
       "<div>\n",
       "<style scoped>\n",
       "    .dataframe tbody tr th:only-of-type {\n",
       "        vertical-align: middle;\n",
       "    }\n",
       "\n",
       "    .dataframe tbody tr th {\n",
       "        vertical-align: top;\n",
       "    }\n",
       "\n",
       "    .dataframe thead th {\n",
       "        text-align: right;\n",
       "    }\n",
       "</style>\n",
       "<table border=\"1\" class=\"dataframe\">\n",
       "  <thead>\n",
       "    <tr style=\"text-align: right;\">\n",
       "      <th></th>\n",
       "      <th>rent_date</th>\n",
       "      <th>rent_hour</th>\n",
       "      <th>station_no</th>\n",
       "      <th>station_name</th>\n",
       "      <th>rent_type</th>\n",
       "      <th>sex</th>\n",
       "      <th>age_type</th>\n",
       "      <th>rent_count</th>\n",
       "      <th>momentum</th>\n",
       "      <th>green</th>\n",
       "      <th>distance</th>\n",
       "      <th>use_hour</th>\n",
       "      <th>address</th>\n",
       "      <th>gu</th>\n",
       "    </tr>\n",
       "  </thead>\n",
       "  <tbody>\n",
       "    <tr>\n",
       "      <th>0</th>\n",
       "      <td>2021-01-01</td>\n",
       "      <td>0.0</td>\n",
       "      <td>1347</td>\n",
       "      <td>1347. 길음래미안아파트817동 상가 앞</td>\n",
       "      <td>정기권</td>\n",
       "      <td></td>\n",
       "      <td>~10대</td>\n",
       "      <td>2.0</td>\n",
       "      <td>28.90</td>\n",
       "      <td>0.23</td>\n",
       "      <td>992.78</td>\n",
       "      <td>13.0</td>\n",
       "      <td>서울특별시 성북구 길음로 33</td>\n",
       "      <td>성북구</td>\n",
       "    </tr>\n",
       "    <tr>\n",
       "      <th>1</th>\n",
       "      <td>2021-01-01</td>\n",
       "      <td>0.0</td>\n",
       "      <td>1347</td>\n",
       "      <td>1347. 길음래미안아파트817동 상가 앞</td>\n",
       "      <td>정기권</td>\n",
       "      <td></td>\n",
       "      <td>20대</td>\n",
       "      <td>1.0</td>\n",
       "      <td>11.24</td>\n",
       "      <td>0.07</td>\n",
       "      <td>283.72</td>\n",
       "      <td>1.0</td>\n",
       "      <td>서울특별시 성북구 길음로 33</td>\n",
       "      <td>성북구</td>\n",
       "    </tr>\n",
       "    <tr>\n",
       "      <th>2</th>\n",
       "      <td>2021-01-01</td>\n",
       "      <td>2.0</td>\n",
       "      <td>1347</td>\n",
       "      <td>1347. 길음래미안아파트817동 상가 앞</td>\n",
       "      <td>일일권</td>\n",
       "      <td></td>\n",
       "      <td>20대</td>\n",
       "      <td>1.0</td>\n",
       "      <td>42.24</td>\n",
       "      <td>0.43</td>\n",
       "      <td>1839.04</td>\n",
       "      <td>37.0</td>\n",
       "      <td>서울특별시 성북구 길음로 33</td>\n",
       "      <td>성북구</td>\n",
       "    </tr>\n",
       "    <tr>\n",
       "      <th>3</th>\n",
       "      <td>2021-01-01</td>\n",
       "      <td>2.0</td>\n",
       "      <td>1347</td>\n",
       "      <td>1347. 길음래미안아파트817동 상가 앞</td>\n",
       "      <td>일일권</td>\n",
       "      <td>M</td>\n",
       "      <td>20대</td>\n",
       "      <td>2.0</td>\n",
       "      <td>50.75</td>\n",
       "      <td>0.44</td>\n",
       "      <td>1912.72</td>\n",
       "      <td>73.0</td>\n",
       "      <td>서울특별시 성북구 길음로 33</td>\n",
       "      <td>성북구</td>\n",
       "    </tr>\n",
       "    <tr>\n",
       "      <th>4</th>\n",
       "      <td>2021-01-01</td>\n",
       "      <td>5.0</td>\n",
       "      <td>1347</td>\n",
       "      <td>1347. 길음래미안아파트817동 상가 앞</td>\n",
       "      <td>일일권</td>\n",
       "      <td>M</td>\n",
       "      <td>~10대</td>\n",
       "      <td>1.0</td>\n",
       "      <td>183.65</td>\n",
       "      <td>1.66</td>\n",
       "      <td>7134.79</td>\n",
       "      <td>47.0</td>\n",
       "      <td>서울특별시 성북구 길음로 33</td>\n",
       "      <td>성북구</td>\n",
       "    </tr>\n",
       "  </tbody>\n",
       "</table>\n",
       "</div>"
      ],
      "text/plain": [
       "    rent_date  rent_hour  station_no             station_name rent_type sex  \\\n",
       "0  2021-01-01        0.0        1347  1347. 길음래미안아파트817동 상가 앞       정기권       \n",
       "1  2021-01-01        0.0        1347  1347. 길음래미안아파트817동 상가 앞       정기권       \n",
       "2  2021-01-01        2.0        1347  1347. 길음래미안아파트817동 상가 앞       일일권       \n",
       "3  2021-01-01        2.0        1347  1347. 길음래미안아파트817동 상가 앞       일일권   M   \n",
       "4  2021-01-01        5.0        1347  1347. 길음래미안아파트817동 상가 앞       일일권   M   \n",
       "\n",
       "  age_type  rent_count  momentum  green  distance  use_hour           address  \\\n",
       "0     ~10대         2.0     28.90   0.23    992.78      13.0  서울특별시 성북구 길음로 33   \n",
       "1      20대         1.0     11.24   0.07    283.72       1.0  서울특별시 성북구 길음로 33   \n",
       "2      20대         1.0     42.24   0.43   1839.04      37.0  서울특별시 성북구 길음로 33   \n",
       "3      20대         2.0     50.75   0.44   1912.72      73.0  서울특별시 성북구 길음로 33   \n",
       "4     ~10대         1.0    183.65   1.66   7134.79      47.0  서울특별시 성북구 길음로 33   \n",
       "\n",
       "    gu  \n",
       "0  성북구  \n",
       "1  성북구  \n",
       "2  성북구  \n",
       "3  성북구  \n",
       "4  성북구  "
      ]
     },
     "execution_count": 26,
     "metadata": {},
     "output_type": "execute_result"
    }
   ],
   "source": [
    "df_address_join = pd.merge(df, df_station_info_address, left_on='station_no', right_on='station_no', how='outer', )\n",
    "df_address_join.head()"
   ]
  },
  {
   "cell_type": "code",
   "execution_count": 33,
   "metadata": {
    "ExecuteTime": {
     "end_time": "2021-06-17T02:32:30.800663Z",
     "start_time": "2021-06-17T02:32:30.734491Z"
    },
    "scrolled": false
   },
   "outputs": [
    {
     "data": {
      "text/plain": [
       "강서구     65702\n",
       "영등포구    54978\n",
       "송파구     48548\n",
       "마포구     42254\n",
       "양천구     38330\n",
       "노원구     37301\n",
       "광진구     33116\n",
       "성동구     32064\n",
       "종로구     31610\n",
       "동대문구    29815\n",
       "구로구     27721\n",
       "서초구     26381\n",
       "관악구     23928\n",
       "강동구     23321\n",
       "성북구     23114\n",
       "은평구     23072\n",
       "강남구     22307\n",
       "서대문구    20887\n",
       "중랑구     20698\n",
       "중구      18340\n",
       "동작구     16855\n",
       "용산구     15563\n",
       "도봉구     15197\n",
       "강북구     14581\n",
       "금천구     11920\n",
       "Name: gu, dtype: int64"
      ]
     },
     "execution_count": 33,
     "metadata": {},
     "output_type": "execute_result"
    }
   ],
   "source": [
    "df_address_join.gu.value_counts()"
   ]
  },
  {
   "cell_type": "code",
   "execution_count": 34,
   "metadata": {
    "ExecuteTime": {
     "end_time": "2021-06-17T02:32:55.214819Z",
     "start_time": "2021-06-17T02:32:54.756228Z"
    },
    "scrolled": true
   },
   "outputs": [
    {
     "data": {
      "text/plain": [
       "rent_date         13\n",
       "rent_hour         13\n",
       "station_no         0\n",
       "station_name      13\n",
       "rent_type         13\n",
       "sex               13\n",
       "age_type          13\n",
       "rent_count        13\n",
       "momentum          13\n",
       "green             13\n",
       "distance          13\n",
       "use_hour          13\n",
       "address         2533\n",
       "gu              2533\n",
       "dtype: int64"
      ]
     },
     "execution_count": 34,
     "metadata": {},
     "output_type": "execute_result"
    }
   ],
   "source": [
    "df_address_join.isnull().sum()"
   ]
  },
  {
   "cell_type": "code",
   "execution_count": 36,
   "metadata": {
    "ExecuteTime": {
     "end_time": "2021-06-17T02:37:56.513078Z",
     "start_time": "2021-06-17T02:37:55.285776Z"
    }
   },
   "outputs": [],
   "source": [
    "# with open('data/df_address_join.pkl', 'wb') as f:\n",
    "#     pickle.dump(df_address_join, f)\n",
    "\n",
    "with open('data/df_address_join.pkl', 'rb') as f:\n",
    "    df_address_join = pickle.load(f)"
   ]
  },
  {
   "cell_type": "markdown",
   "metadata": {},
   "source": [
    "### 지도 시각화"
   ]
  },
  {
   "cell_type": "code",
   "execution_count": 54,
   "metadata": {
    "ExecuteTime": {
     "end_time": "2021-06-17T04:41:08.114762Z",
     "start_time": "2021-06-17T04:41:08.110056Z"
    }
   },
   "outputs": [],
   "source": [
    "with open(str(pw_path)+'googlemaps_api_key.pkl', 'rb') as f:\n",
    "    api_key = pickle.load(f)"
   ]
  },
  {
   "cell_type": "code",
   "execution_count": 55,
   "metadata": {
    "ExecuteTime": {
     "end_time": "2021-06-17T04:41:08.265770Z",
     "start_time": "2021-06-17T04:41:08.257670Z"
    }
   },
   "outputs": [],
   "source": [
    "gmaps = googlemaps.Client(key=api_key)"
   ]
  },
  {
   "cell_type": "code",
   "execution_count": 8,
   "metadata": {
    "ExecuteTime": {
     "end_time": "2021-06-10T08:01:07.961953Z",
     "start_time": "2021-06-10T08:01:07.303632Z"
    },
    "scrolled": false
   },
   "outputs": [
    {
     "data": {
      "text/plain": [
       "[{'address_components': [{'long_name': '４４１−３０',\n",
       "    'short_name': '４４１−３０',\n",
       "    'types': ['premise']},\n",
       "   {'long_name': '서교동',\n",
       "    'short_name': '서교동',\n",
       "    'types': ['political', 'sublocality', 'sublocality_level_2']},\n",
       "   {'long_name': '마포구',\n",
       "    'short_name': '마포구',\n",
       "    'types': ['political', 'sublocality', 'sublocality_level_1']},\n",
       "   {'long_name': '서울특별시',\n",
       "    'short_name': '서울특별시',\n",
       "    'types': ['administrative_area_level_1', 'political']},\n",
       "   {'long_name': '대한민국',\n",
       "    'short_name': 'KR',\n",
       "    'types': ['country', 'political']},\n",
       "   {'long_name': '121-210',\n",
       "    'short_name': '121-210',\n",
       "    'types': ['postal_code']}],\n",
       "  'formatted_address': '대한민국 서울특별시 마포구 서교동 441-30',\n",
       "  'geometry': {'location': {'lat': 37.5559055, 'lng': 126.910363},\n",
       "   'location_type': 'ROOFTOP',\n",
       "   'viewport': {'northeast': {'lat': 37.5572544802915,\n",
       "     'lng': 126.9117119802915},\n",
       "    'southwest': {'lat': 37.55455651970851, 'lng': 126.9090140197085}}},\n",
       "  'place_id': 'ChIJX2XBmieZfDURQeMUUIkuM2E',\n",
       "  'plus_code': {'compound_code': 'HW46+94 대한민국 서울특별시',\n",
       "   'global_code': '8Q98HW46+94'},\n",
       "  'types': ['establishment', 'point_of_interest']}]"
      ]
     },
     "execution_count": 8,
     "metadata": {},
     "output_type": "execute_result"
    }
   ],
   "source": [
    "gmaps.geocode('망원역 1번출구 앞', language='ko')"
   ]
  },
  {
   "cell_type": "code",
   "execution_count": 25,
   "metadata": {
    "ExecuteTime": {
     "end_time": "2021-06-10T05:31:57.000565Z",
     "start_time": "2021-06-10T05:31:56.476949Z"
    },
    "scrolled": false
   },
   "outputs": [
    {
     "data": {
      "text/plain": [
       "[{'address_components': [{'long_name': '４４１−３０',\n",
       "    'short_name': '４４１−３０',\n",
       "    'types': ['premise']},\n",
       "   {'long_name': '서교동',\n",
       "    'short_name': '서교동',\n",
       "    'types': ['political', 'sublocality', 'sublocality_level_2']},\n",
       "   {'long_name': '마포구',\n",
       "    'short_name': '마포구',\n",
       "    'types': ['political', 'sublocality', 'sublocality_level_1']},\n",
       "   {'long_name': '서울특별시',\n",
       "    'short_name': '서울특별시',\n",
       "    'types': ['administrative_area_level_1', 'political']},\n",
       "   {'long_name': '대한민국',\n",
       "    'short_name': 'KR',\n",
       "    'types': ['country', 'political']},\n",
       "   {'long_name': '121-210',\n",
       "    'short_name': '121-210',\n",
       "    'types': ['postal_code']}],\n",
       "  'formatted_address': '대한민국 서울특별시 마포구 서교동 441-30',\n",
       "  'geometry': {'location': {'lat': 37.5559055, 'lng': 126.910363},\n",
       "   'location_type': 'ROOFTOP',\n",
       "   'viewport': {'northeast': {'lat': 37.5572544802915,\n",
       "     'lng': 126.9117119802915},\n",
       "    'southwest': {'lat': 37.55455651970851, 'lng': 126.9090140197085}}},\n",
       "  'place_id': 'ChIJX2XBmieZfDURQeMUUIkuM2E',\n",
       "  'plus_code': {'compound_code': 'HW46+94 대한민국 서울특별시',\n",
       "   'global_code': '8Q98HW46+94'},\n",
       "  'types': ['establishment', 'point_of_interest']}]"
      ]
     },
     "execution_count": 25,
     "metadata": {},
     "output_type": "execute_result"
    }
   ],
   "source": [
    "gmaps.geocode('망원역 1번출구 앞', language='ko')"
   ]
  },
  {
   "cell_type": "code",
   "execution_count": 38,
   "metadata": {
    "ExecuteTime": {
     "end_time": "2021-06-17T04:28:09.334683Z",
     "start_time": "2021-06-17T04:28:09.310637Z"
    }
   },
   "outputs": [
    {
     "data": {
      "text/html": [
       "<div>\n",
       "<style scoped>\n",
       "    .dataframe tbody tr th:only-of-type {\n",
       "        vertical-align: middle;\n",
       "    }\n",
       "\n",
       "    .dataframe tbody tr th {\n",
       "        vertical-align: top;\n",
       "    }\n",
       "\n",
       "    .dataframe thead th {\n",
       "        text-align: right;\n",
       "    }\n",
       "</style>\n",
       "<table border=\"1\" class=\"dataframe\">\n",
       "  <thead>\n",
       "    <tr style=\"text-align: right;\">\n",
       "      <th></th>\n",
       "      <th>station_no</th>\n",
       "      <th>station_name</th>\n",
       "      <th>gu</th>\n",
       "      <th>address</th>\n",
       "      <th>lat</th>\n",
       "      <th>lon</th>\n",
       "      <th>est</th>\n",
       "      <th>capa(LCD)</th>\n",
       "      <th>capa(QR)</th>\n",
       "      <th>opration_type</th>\n",
       "    </tr>\n",
       "  </thead>\n",
       "  <tbody>\n",
       "    <tr>\n",
       "      <th>0</th>\n",
       "      <td>301</td>\n",
       "      <td>경복궁역 7번출구 앞</td>\n",
       "      <td>종로구</td>\n",
       "      <td>서울특별시 종로구 사직로 지하130</td>\n",
       "      <td>37.575794</td>\n",
       "      <td>126.971451</td>\n",
       "      <td>2015-10-07</td>\n",
       "      <td>16.0</td>\n",
       "      <td>NaN</td>\n",
       "      <td>LCD</td>\n",
       "    </tr>\n",
       "    <tr>\n",
       "      <th>1</th>\n",
       "      <td>302</td>\n",
       "      <td>경복궁역 4번출구 뒤</td>\n",
       "      <td>종로구</td>\n",
       "      <td>서울특별시 종로구 사직로 지하130</td>\n",
       "      <td>37.575947</td>\n",
       "      <td>126.974060</td>\n",
       "      <td>2015-10-07</td>\n",
       "      <td>12.0</td>\n",
       "      <td>NaN</td>\n",
       "      <td>LCD</td>\n",
       "    </tr>\n",
       "    <tr>\n",
       "      <th>2</th>\n",
       "      <td>303</td>\n",
       "      <td>광화문역 1번출구 앞</td>\n",
       "      <td>종로구</td>\n",
       "      <td>서울특별시 종로구 세종대로 지하189</td>\n",
       "      <td>37.571770</td>\n",
       "      <td>126.974663</td>\n",
       "      <td>2015-10-07</td>\n",
       "      <td>8.0</td>\n",
       "      <td>NaN</td>\n",
       "      <td>LCD</td>\n",
       "    </tr>\n",
       "    <tr>\n",
       "      <th>3</th>\n",
       "      <td>304</td>\n",
       "      <td>광화문역 2번출구 앞</td>\n",
       "      <td>종로구</td>\n",
       "      <td>서울특별시 종로구 세종대로 지하172</td>\n",
       "      <td>37.572113</td>\n",
       "      <td>126.977577</td>\n",
       "      <td>2021-01-26</td>\n",
       "      <td>NaN</td>\n",
       "      <td>7.0</td>\n",
       "      <td>QR</td>\n",
       "    </tr>\n",
       "    <tr>\n",
       "      <th>4</th>\n",
       "      <td>305</td>\n",
       "      <td>종로구청 옆</td>\n",
       "      <td>종로구</td>\n",
       "      <td>서울특별시 종로구 삼봉로 43</td>\n",
       "      <td>37.572582</td>\n",
       "      <td>126.978355</td>\n",
       "      <td>2015-10-07</td>\n",
       "      <td>16.0</td>\n",
       "      <td>NaN</td>\n",
       "      <td>LCD</td>\n",
       "    </tr>\n",
       "  </tbody>\n",
       "</table>\n",
       "</div>"
      ],
      "text/plain": [
       "   station_no station_name   gu               address        lat         lon  \\\n",
       "0         301  경복궁역 7번출구 앞  종로구   서울특별시 종로구 사직로 지하130  37.575794  126.971451   \n",
       "1         302  경복궁역 4번출구 뒤  종로구   서울특별시 종로구 사직로 지하130  37.575947  126.974060   \n",
       "2         303  광화문역 1번출구 앞  종로구  서울특별시 종로구 세종대로 지하189  37.571770  126.974663   \n",
       "3         304  광화문역 2번출구 앞  종로구  서울특별시 종로구 세종대로 지하172  37.572113  126.977577   \n",
       "4         305       종로구청 옆  종로구      서울특별시 종로구 삼봉로 43  37.572582  126.978355   \n",
       "\n",
       "          est  capa(LCD)  capa(QR) opration_type  \n",
       "0  2015-10-07       16.0       NaN           LCD  \n",
       "1  2015-10-07       12.0       NaN           LCD  \n",
       "2  2015-10-07        8.0       NaN           LCD  \n",
       "3  2021-01-26        NaN       7.0            QR  \n",
       "4  2015-10-07       16.0       NaN           LCD  "
      ]
     },
     "execution_count": 38,
     "metadata": {},
     "output_type": "execute_result"
    }
   ],
   "source": [
    "df_station_info.head()"
   ]
  },
  {
   "cell_type": "code",
   "execution_count": 40,
   "metadata": {
    "ExecuteTime": {
     "end_time": "2021-06-17T04:29:11.424438Z",
     "start_time": "2021-06-17T04:29:11.413321Z"
    }
   },
   "outputs": [
    {
     "data": {
      "text/plain": [
       "station_no          0\n",
       "station_name        0\n",
       "gu                  0\n",
       "address             0\n",
       "lat               112\n",
       "lon               112\n",
       "est                 2\n",
       "capa(LCD)         672\n",
       "capa(QR)         1483\n",
       "opration_type       0\n",
       "dtype: int64"
      ]
     },
     "execution_count": 40,
     "metadata": {},
     "output_type": "execute_result"
    }
   ],
   "source": [
    "df_station_info.isnull().sum()"
   ]
  },
  {
   "cell_type": "code",
   "execution_count": 144,
   "metadata": {
    "ExecuteTime": {
     "end_time": "2021-06-17T05:43:47.933108Z",
     "start_time": "2021-06-17T05:43:47.923609Z"
    }
   },
   "outputs": [],
   "source": [
    "df_geo = df_station_info.loc[:, ['gu', 'lat', 'lon']]"
   ]
  },
  {
   "cell_type": "code",
   "execution_count": null,
   "metadata": {},
   "outputs": [],
   "source": [
    "for i in df_geo:\n",
    "    "
   ]
  },
  {
   "cell_type": "code",
   "execution_count": 47,
   "metadata": {
    "ExecuteTime": {
     "end_time": "2021-06-17T04:31:14.682451Z",
     "start_time": "2021-06-17T04:31:14.637914Z"
    },
    "scrolled": false
   },
   "outputs": [
    {
     "data": {
      "text/html": [
       "<div style=\"width:100%;\"><div style=\"position:relative;width:100%;height:0;padding-bottom:60%;\"><span style=\"color:#565656\">Make this Notebook Trusted to load map: File -> Trust Notebook</span><iframe src=\"about:blank\" style=\"position:absolute;width:100%;height:100%;left:0;top:0;border:none !important;\" data-html=%3C%21DOCTYPE%20html%3E%0A%3Chead%3E%20%20%20%20%0A%20%20%20%20%3Cmeta%20http-equiv%3D%22content-type%22%20content%3D%22text/html%3B%20charset%3DUTF-8%22%20/%3E%0A%20%20%20%20%0A%20%20%20%20%20%20%20%20%3Cscript%3E%0A%20%20%20%20%20%20%20%20%20%20%20%20L_NO_TOUCH%20%3D%20false%3B%0A%20%20%20%20%20%20%20%20%20%20%20%20L_DISABLE_3D%20%3D%20false%3B%0A%20%20%20%20%20%20%20%20%3C/script%3E%0A%20%20%20%20%0A%20%20%20%20%3Cstyle%3Ehtml%2C%20body%20%7Bwidth%3A%20100%25%3Bheight%3A%20100%25%3Bmargin%3A%200%3Bpadding%3A%200%3B%7D%3C/style%3E%0A%20%20%20%20%3Cstyle%3E%23map%20%7Bposition%3Aabsolute%3Btop%3A0%3Bbottom%3A0%3Bright%3A0%3Bleft%3A0%3B%7D%3C/style%3E%0A%20%20%20%20%3Cscript%20src%3D%22https%3A//cdn.jsdelivr.net/npm/leaflet%401.6.0/dist/leaflet.js%22%3E%3C/script%3E%0A%20%20%20%20%3Cscript%20src%3D%22https%3A//code.jquery.com/jquery-1.12.4.min.js%22%3E%3C/script%3E%0A%20%20%20%20%3Cscript%20src%3D%22https%3A//maxcdn.bootstrapcdn.com/bootstrap/3.2.0/js/bootstrap.min.js%22%3E%3C/script%3E%0A%20%20%20%20%3Cscript%20src%3D%22https%3A//cdnjs.cloudflare.com/ajax/libs/Leaflet.awesome-markers/2.0.2/leaflet.awesome-markers.js%22%3E%3C/script%3E%0A%20%20%20%20%3Clink%20rel%3D%22stylesheet%22%20href%3D%22https%3A//cdn.jsdelivr.net/npm/leaflet%401.6.0/dist/leaflet.css%22/%3E%0A%20%20%20%20%3Clink%20rel%3D%22stylesheet%22%20href%3D%22https%3A//maxcdn.bootstrapcdn.com/bootstrap/3.2.0/css/bootstrap.min.css%22/%3E%0A%20%20%20%20%3Clink%20rel%3D%22stylesheet%22%20href%3D%22https%3A//maxcdn.bootstrapcdn.com/bootstrap/3.2.0/css/bootstrap-theme.min.css%22/%3E%0A%20%20%20%20%3Clink%20rel%3D%22stylesheet%22%20href%3D%22https%3A//maxcdn.bootstrapcdn.com/font-awesome/4.6.3/css/font-awesome.min.css%22/%3E%0A%20%20%20%20%3Clink%20rel%3D%22stylesheet%22%20href%3D%22https%3A//cdnjs.cloudflare.com/ajax/libs/Leaflet.awesome-markers/2.0.2/leaflet.awesome-markers.css%22/%3E%0A%20%20%20%20%3Clink%20rel%3D%22stylesheet%22%20href%3D%22https%3A//cdn.jsdelivr.net/gh/python-visualization/folium/folium/templates/leaflet.awesome.rotate.min.css%22/%3E%0A%20%20%20%20%0A%20%20%20%20%20%20%20%20%20%20%20%20%3Cmeta%20name%3D%22viewport%22%20content%3D%22width%3Ddevice-width%2C%0A%20%20%20%20%20%20%20%20%20%20%20%20%20%20%20%20initial-scale%3D1.0%2C%20maximum-scale%3D1.0%2C%20user-scalable%3Dno%22%20/%3E%0A%20%20%20%20%20%20%20%20%20%20%20%20%3Cstyle%3E%0A%20%20%20%20%20%20%20%20%20%20%20%20%20%20%20%20%23map_87b6d96935664d509e5639ae75264b8a%20%7B%0A%20%20%20%20%20%20%20%20%20%20%20%20%20%20%20%20%20%20%20%20position%3A%20relative%3B%0A%20%20%20%20%20%20%20%20%20%20%20%20%20%20%20%20%20%20%20%20width%3A%20100.0%25%3B%0A%20%20%20%20%20%20%20%20%20%20%20%20%20%20%20%20%20%20%20%20height%3A%20100.0%25%3B%0A%20%20%20%20%20%20%20%20%20%20%20%20%20%20%20%20%20%20%20%20left%3A%200.0%25%3B%0A%20%20%20%20%20%20%20%20%20%20%20%20%20%20%20%20%20%20%20%20top%3A%200.0%25%3B%0A%20%20%20%20%20%20%20%20%20%20%20%20%20%20%20%20%7D%0A%20%20%20%20%20%20%20%20%20%20%20%20%3C/style%3E%0A%20%20%20%20%20%20%20%20%0A%3C/head%3E%0A%3Cbody%3E%20%20%20%20%0A%20%20%20%20%0A%20%20%20%20%20%20%20%20%20%20%20%20%3Cdiv%20class%3D%22folium-map%22%20id%3D%22map_87b6d96935664d509e5639ae75264b8a%22%20%3E%3C/div%3E%0A%20%20%20%20%20%20%20%20%0A%3C/body%3E%0A%3Cscript%3E%20%20%20%20%0A%20%20%20%20%0A%20%20%20%20%20%20%20%20%20%20%20%20var%20map_87b6d96935664d509e5639ae75264b8a%20%3D%20L.map%28%0A%20%20%20%20%20%20%20%20%20%20%20%20%20%20%20%20%22map_87b6d96935664d509e5639ae75264b8a%22%2C%0A%20%20%20%20%20%20%20%20%20%20%20%20%20%20%20%20%7B%0A%20%20%20%20%20%20%20%20%20%20%20%20%20%20%20%20%20%20%20%20center%3A%20%5B37.575794%2C%20126.971451%5D%2C%0A%20%20%20%20%20%20%20%20%20%20%20%20%20%20%20%20%20%20%20%20crs%3A%20L.CRS.EPSG3857%2C%0A%20%20%20%20%20%20%20%20%20%20%20%20%20%20%20%20%20%20%20%20zoom%3A%2015%2C%0A%20%20%20%20%20%20%20%20%20%20%20%20%20%20%20%20%20%20%20%20zoomControl%3A%20true%2C%0A%20%20%20%20%20%20%20%20%20%20%20%20%20%20%20%20%20%20%20%20preferCanvas%3A%20false%2C%0A%20%20%20%20%20%20%20%20%20%20%20%20%20%20%20%20%7D%0A%20%20%20%20%20%20%20%20%20%20%20%20%29%3B%0A%0A%20%20%20%20%20%20%20%20%20%20%20%20%0A%0A%20%20%20%20%20%20%20%20%0A%20%20%20%20%0A%20%20%20%20%20%20%20%20%20%20%20%20var%20tile_layer_1f8feda2c7044cd082ac60782412230f%20%3D%20L.tileLayer%28%0A%20%20%20%20%20%20%20%20%20%20%20%20%20%20%20%20%22https%3A//%7Bs%7D.tile.openstreetmap.org/%7Bz%7D/%7Bx%7D/%7By%7D.png%22%2C%0A%20%20%20%20%20%20%20%20%20%20%20%20%20%20%20%20%7B%22attribution%22%3A%20%22Data%20by%20%5Cu0026copy%3B%20%5Cu003ca%20href%3D%5C%22http%3A//openstreetmap.org%5C%22%5Cu003eOpenStreetMap%5Cu003c/a%5Cu003e%2C%20under%20%5Cu003ca%20href%3D%5C%22http%3A//www.openstreetmap.org/copyright%5C%22%5Cu003eODbL%5Cu003c/a%5Cu003e.%22%2C%20%22detectRetina%22%3A%20false%2C%20%22maxNativeZoom%22%3A%2018%2C%20%22maxZoom%22%3A%2018%2C%20%22minZoom%22%3A%200%2C%20%22noWrap%22%3A%20false%2C%20%22opacity%22%3A%201%2C%20%22subdomains%22%3A%20%22abc%22%2C%20%22tms%22%3A%20false%7D%0A%20%20%20%20%20%20%20%20%20%20%20%20%29.addTo%28map_87b6d96935664d509e5639ae75264b8a%29%3B%0A%20%20%20%20%20%20%20%20%0A%20%20%20%20%0A%20%20%20%20%20%20%20%20%20%20%20%20var%20marker_b42900d316d54f0c928e70504db12837%20%3D%20L.marker%28%0A%20%20%20%20%20%20%20%20%20%20%20%20%20%20%20%20%5B37.575794%2C%20126.971451%5D%2C%0A%20%20%20%20%20%20%20%20%20%20%20%20%20%20%20%20%7B%7D%0A%20%20%20%20%20%20%20%20%20%20%20%20%29.addTo%28map_87b6d96935664d509e5639ae75264b8a%29%3B%0A%20%20%20%20%20%20%20%20%0A%20%20%20%20%0A%20%20%20%20%20%20%20%20%20%20%20%20var%20icon_e4405b18cfd94a30837017a0d4b8acb7%20%3D%20L.AwesomeMarkers.icon%28%0A%20%20%20%20%20%20%20%20%20%20%20%20%20%20%20%20%7B%22extraClasses%22%3A%20%22fa-rotate-0%22%2C%20%22icon%22%3A%20%22info-sign%22%2C%20%22iconColor%22%3A%20%22white%22%2C%20%22markerColor%22%3A%20%22green%22%2C%20%22prefix%22%3A%20%22glyphicon%22%7D%0A%20%20%20%20%20%20%20%20%20%20%20%20%29%3B%0A%20%20%20%20%20%20%20%20%20%20%20%20marker_b42900d316d54f0c928e70504db12837.setIcon%28icon_e4405b18cfd94a30837017a0d4b8acb7%29%3B%0A%20%20%20%20%20%20%20%20%0A%20%20%20%20%0A%20%20%20%20%20%20%20%20var%20popup_26288b0744434f8bb4affae5b8a95677%20%3D%20L.popup%28%7B%22maxWidth%22%3A%20%22100%25%22%7D%29%3B%0A%0A%20%20%20%20%20%20%20%20%0A%20%20%20%20%20%20%20%20%20%20%20%20var%20html_c6f3dd5d9465455595c412e5f9454793%20%3D%20%24%28%60%3Cdiv%20id%3D%22html_c6f3dd5d9465455595c412e5f9454793%22%20style%3D%22width%3A%20100.0%25%3B%20height%3A%20100.0%25%3B%22%3E%EA%B2%BD%EB%B3%B5%EA%B6%81%EC%97%AD%207%EB%B2%88%EC%B6%9C%EA%B5%AC%20%EC%95%9E%3C/div%3E%60%29%5B0%5D%3B%0A%20%20%20%20%20%20%20%20%20%20%20%20popup_26288b0744434f8bb4affae5b8a95677.setContent%28html_c6f3dd5d9465455595c412e5f9454793%29%3B%0A%20%20%20%20%20%20%20%20%0A%0A%20%20%20%20%20%20%20%20marker_b42900d316d54f0c928e70504db12837.bindPopup%28popup_26288b0744434f8bb4affae5b8a95677%29%0A%20%20%20%20%20%20%20%20%3B%0A%0A%20%20%20%20%20%20%20%20%0A%20%20%20%20%0A%20%20%20%20%0A%20%20%20%20%20%20%20%20%20%20%20%20var%20marker_aec541e02fc94fb3b04c1da043cc33d6%20%3D%20L.marker%28%0A%20%20%20%20%20%20%20%20%20%20%20%20%20%20%20%20%5B37.575947%2C%20126.97406%5D%2C%0A%20%20%20%20%20%20%20%20%20%20%20%20%20%20%20%20%7B%7D%0A%20%20%20%20%20%20%20%20%20%20%20%20%29.addTo%28map_87b6d96935664d509e5639ae75264b8a%29%3B%0A%20%20%20%20%20%20%20%20%0A%20%20%20%20%0A%20%20%20%20%20%20%20%20%20%20%20%20var%20icon_f4e3a03a5d274aa9aff8005e9ce863c1%20%3D%20L.AwesomeMarkers.icon%28%0A%20%20%20%20%20%20%20%20%20%20%20%20%20%20%20%20%7B%22extraClasses%22%3A%20%22fa-rotate-0%22%2C%20%22icon%22%3A%20%22info-sign%22%2C%20%22iconColor%22%3A%20%22white%22%2C%20%22markerColor%22%3A%20%22green%22%2C%20%22prefix%22%3A%20%22glyphicon%22%7D%0A%20%20%20%20%20%20%20%20%20%20%20%20%29%3B%0A%20%20%20%20%20%20%20%20%20%20%20%20marker_aec541e02fc94fb3b04c1da043cc33d6.setIcon%28icon_f4e3a03a5d274aa9aff8005e9ce863c1%29%3B%0A%20%20%20%20%20%20%20%20%0A%20%20%20%20%0A%20%20%20%20%20%20%20%20var%20popup_80220f57a7d1437a963dd892bcc8e224%20%3D%20L.popup%28%7B%22maxWidth%22%3A%20%22100%25%22%7D%29%3B%0A%0A%20%20%20%20%20%20%20%20%0A%20%20%20%20%20%20%20%20%20%20%20%20var%20html_7ab2782d0603492eb324bf52d2552f48%20%3D%20%24%28%60%3Cdiv%20id%3D%22html_7ab2782d0603492eb324bf52d2552f48%22%20style%3D%22width%3A%20100.0%25%3B%20height%3A%20100.0%25%3B%22%3E%EA%B2%BD%EB%B3%B5%EA%B6%81%EC%97%AD%204%EB%B2%88%EC%B6%9C%EA%B5%AC%20%EB%92%A4%3C/div%3E%60%29%5B0%5D%3B%0A%20%20%20%20%20%20%20%20%20%20%20%20popup_80220f57a7d1437a963dd892bcc8e224.setContent%28html_7ab2782d0603492eb324bf52d2552f48%29%3B%0A%20%20%20%20%20%20%20%20%0A%0A%20%20%20%20%20%20%20%20marker_aec541e02fc94fb3b04c1da043cc33d6.bindPopup%28popup_80220f57a7d1437a963dd892bcc8e224%29%0A%20%20%20%20%20%20%20%20%3B%0A%0A%20%20%20%20%20%20%20%20%0A%20%20%20%20%0A%20%20%20%20%0A%20%20%20%20%20%20%20%20%20%20%20%20var%20marker_0e48ffd237b14786b616c2b4ca89b928%20%3D%20L.marker%28%0A%20%20%20%20%20%20%20%20%20%20%20%20%20%20%20%20%5B37.57177%2C%20126.974663%5D%2C%0A%20%20%20%20%20%20%20%20%20%20%20%20%20%20%20%20%7B%7D%0A%20%20%20%20%20%20%20%20%20%20%20%20%29.addTo%28map_87b6d96935664d509e5639ae75264b8a%29%3B%0A%20%20%20%20%20%20%20%20%0A%20%20%20%20%0A%20%20%20%20%20%20%20%20%20%20%20%20var%20icon_4138278ac24a42d58b8bc1698940e03c%20%3D%20L.AwesomeMarkers.icon%28%0A%20%20%20%20%20%20%20%20%20%20%20%20%20%20%20%20%7B%22extraClasses%22%3A%20%22fa-rotate-0%22%2C%20%22icon%22%3A%20%22info-sign%22%2C%20%22iconColor%22%3A%20%22white%22%2C%20%22markerColor%22%3A%20%22green%22%2C%20%22prefix%22%3A%20%22glyphicon%22%7D%0A%20%20%20%20%20%20%20%20%20%20%20%20%29%3B%0A%20%20%20%20%20%20%20%20%20%20%20%20marker_0e48ffd237b14786b616c2b4ca89b928.setIcon%28icon_4138278ac24a42d58b8bc1698940e03c%29%3B%0A%20%20%20%20%20%20%20%20%0A%20%20%20%20%0A%20%20%20%20%20%20%20%20var%20popup_0aed31c8b955454ebdd112e43d9d815f%20%3D%20L.popup%28%7B%22maxWidth%22%3A%20%22100%25%22%7D%29%3B%0A%0A%20%20%20%20%20%20%20%20%0A%20%20%20%20%20%20%20%20%20%20%20%20var%20html_fb256ea5d911429c810e53bfaabf0933%20%3D%20%24%28%60%3Cdiv%20id%3D%22html_fb256ea5d911429c810e53bfaabf0933%22%20style%3D%22width%3A%20100.0%25%3B%20height%3A%20100.0%25%3B%22%3E%EA%B4%91%ED%99%94%EB%AC%B8%EC%97%AD%201%EB%B2%88%EC%B6%9C%EA%B5%AC%20%EC%95%9E%3C/div%3E%60%29%5B0%5D%3B%0A%20%20%20%20%20%20%20%20%20%20%20%20popup_0aed31c8b955454ebdd112e43d9d815f.setContent%28html_fb256ea5d911429c810e53bfaabf0933%29%3B%0A%20%20%20%20%20%20%20%20%0A%0A%20%20%20%20%20%20%20%20marker_0e48ffd237b14786b616c2b4ca89b928.bindPopup%28popup_0aed31c8b955454ebdd112e43d9d815f%29%0A%20%20%20%20%20%20%20%20%3B%0A%0A%20%20%20%20%20%20%20%20%0A%20%20%20%20%0A%20%20%20%20%0A%20%20%20%20%20%20%20%20%20%20%20%20var%20marker_49bb82043bad49bc8269c48798f21694%20%3D%20L.marker%28%0A%20%20%20%20%20%20%20%20%20%20%20%20%20%20%20%20%5B37.572113%2C%20126.977577%5D%2C%0A%20%20%20%20%20%20%20%20%20%20%20%20%20%20%20%20%7B%7D%0A%20%20%20%20%20%20%20%20%20%20%20%20%29.addTo%28map_87b6d96935664d509e5639ae75264b8a%29%3B%0A%20%20%20%20%20%20%20%20%0A%20%20%20%20%0A%20%20%20%20%20%20%20%20%20%20%20%20var%20icon_6a2e885d47374730ad9c6eb665aba8ef%20%3D%20L.AwesomeMarkers.icon%28%0A%20%20%20%20%20%20%20%20%20%20%20%20%20%20%20%20%7B%22extraClasses%22%3A%20%22fa-rotate-0%22%2C%20%22icon%22%3A%20%22info-sign%22%2C%20%22iconColor%22%3A%20%22white%22%2C%20%22markerColor%22%3A%20%22green%22%2C%20%22prefix%22%3A%20%22glyphicon%22%7D%0A%20%20%20%20%20%20%20%20%20%20%20%20%29%3B%0A%20%20%20%20%20%20%20%20%20%20%20%20marker_49bb82043bad49bc8269c48798f21694.setIcon%28icon_6a2e885d47374730ad9c6eb665aba8ef%29%3B%0A%20%20%20%20%20%20%20%20%0A%20%20%20%20%0A%20%20%20%20%20%20%20%20var%20popup_7e599f35cd084d91aece6bc5b843d98f%20%3D%20L.popup%28%7B%22maxWidth%22%3A%20%22100%25%22%7D%29%3B%0A%0A%20%20%20%20%20%20%20%20%0A%20%20%20%20%20%20%20%20%20%20%20%20var%20html_ab12c6a9ca1f40adb92fb434d1e04c10%20%3D%20%24%28%60%3Cdiv%20id%3D%22html_ab12c6a9ca1f40adb92fb434d1e04c10%22%20style%3D%22width%3A%20100.0%25%3B%20height%3A%20100.0%25%3B%22%3E%EA%B4%91%ED%99%94%EB%AC%B8%EC%97%AD%202%EB%B2%88%EC%B6%9C%EA%B5%AC%20%EC%95%9E%3C/div%3E%60%29%5B0%5D%3B%0A%20%20%20%20%20%20%20%20%20%20%20%20popup_7e599f35cd084d91aece6bc5b843d98f.setContent%28html_ab12c6a9ca1f40adb92fb434d1e04c10%29%3B%0A%20%20%20%20%20%20%20%20%0A%0A%20%20%20%20%20%20%20%20marker_49bb82043bad49bc8269c48798f21694.bindPopup%28popup_7e599f35cd084d91aece6bc5b843d98f%29%0A%20%20%20%20%20%20%20%20%3B%0A%0A%20%20%20%20%20%20%20%20%0A%20%20%20%20%0A%20%20%20%20%0A%20%20%20%20%20%20%20%20%20%20%20%20var%20marker_ceb2f6e4b5a6421394e68902a49b9c51%20%3D%20L.marker%28%0A%20%20%20%20%20%20%20%20%20%20%20%20%20%20%20%20%5B37.572582%2C%20126.978355%5D%2C%0A%20%20%20%20%20%20%20%20%20%20%20%20%20%20%20%20%7B%7D%0A%20%20%20%20%20%20%20%20%20%20%20%20%29.addTo%28map_87b6d96935664d509e5639ae75264b8a%29%3B%0A%20%20%20%20%20%20%20%20%0A%20%20%20%20%0A%20%20%20%20%20%20%20%20%20%20%20%20var%20icon_5aaa115d93514365a6a48d223d7995f9%20%3D%20L.AwesomeMarkers.icon%28%0A%20%20%20%20%20%20%20%20%20%20%20%20%20%20%20%20%7B%22extraClasses%22%3A%20%22fa-rotate-0%22%2C%20%22icon%22%3A%20%22info-sign%22%2C%20%22iconColor%22%3A%20%22white%22%2C%20%22markerColor%22%3A%20%22green%22%2C%20%22prefix%22%3A%20%22glyphicon%22%7D%0A%20%20%20%20%20%20%20%20%20%20%20%20%29%3B%0A%20%20%20%20%20%20%20%20%20%20%20%20marker_ceb2f6e4b5a6421394e68902a49b9c51.setIcon%28icon_5aaa115d93514365a6a48d223d7995f9%29%3B%0A%20%20%20%20%20%20%20%20%0A%20%20%20%20%0A%20%20%20%20%20%20%20%20var%20popup_b17802b31e424b72977365f1548f7116%20%3D%20L.popup%28%7B%22maxWidth%22%3A%20%22100%25%22%7D%29%3B%0A%0A%20%20%20%20%20%20%20%20%0A%20%20%20%20%20%20%20%20%20%20%20%20var%20html_00a676decca44fc68b71f0bf0467552d%20%3D%20%24%28%60%3Cdiv%20id%3D%22html_00a676decca44fc68b71f0bf0467552d%22%20style%3D%22width%3A%20100.0%25%3B%20height%3A%20100.0%25%3B%22%3E%EC%A2%85%EB%A1%9C%EA%B5%AC%EC%B2%AD%20%EC%98%86%3C/div%3E%60%29%5B0%5D%3B%0A%20%20%20%20%20%20%20%20%20%20%20%20popup_b17802b31e424b72977365f1548f7116.setContent%28html_00a676decca44fc68b71f0bf0467552d%29%3B%0A%20%20%20%20%20%20%20%20%0A%0A%20%20%20%20%20%20%20%20marker_ceb2f6e4b5a6421394e68902a49b9c51.bindPopup%28popup_b17802b31e424b72977365f1548f7116%29%0A%20%20%20%20%20%20%20%20%3B%0A%0A%20%20%20%20%20%20%20%20%0A%20%20%20%20%0A%20%20%20%20%0A%20%20%20%20%20%20%20%20%20%20%20%20var%20marker_c5f0456ddf514a0bbc6b882dd206c78d%20%3D%20L.marker%28%0A%20%20%20%20%20%20%20%20%20%20%20%20%20%20%20%20%5B37.570808%2C%20126.976433%5D%2C%0A%20%20%20%20%20%20%20%20%20%20%20%20%20%20%20%20%7B%7D%0A%20%20%20%20%20%20%20%20%20%20%20%20%29.addTo%28map_87b6d96935664d509e5639ae75264b8a%29%3B%0A%20%20%20%20%20%20%20%20%0A%20%20%20%20%0A%20%20%20%20%20%20%20%20%20%20%20%20var%20icon_122989c3d87a47f6ac9dfbe1317ea5cf%20%3D%20L.AwesomeMarkers.icon%28%0A%20%20%20%20%20%20%20%20%20%20%20%20%20%20%20%20%7B%22extraClasses%22%3A%20%22fa-rotate-0%22%2C%20%22icon%22%3A%20%22info-sign%22%2C%20%22iconColor%22%3A%20%22white%22%2C%20%22markerColor%22%3A%20%22green%22%2C%20%22prefix%22%3A%20%22glyphicon%22%7D%0A%20%20%20%20%20%20%20%20%20%20%20%20%29%3B%0A%20%20%20%20%20%20%20%20%20%20%20%20marker_c5f0456ddf514a0bbc6b882dd206c78d.setIcon%28icon_122989c3d87a47f6ac9dfbe1317ea5cf%29%3B%0A%20%20%20%20%20%20%20%20%0A%20%20%20%20%0A%20%20%20%20%20%20%20%20var%20popup_0cbd4e0c68674f5a9996ed37f6e755b7%20%3D%20L.popup%28%7B%22maxWidth%22%3A%20%22100%25%22%7D%29%3B%0A%0A%20%20%20%20%20%20%20%20%0A%20%20%20%20%20%20%20%20%20%20%20%20var%20html_f842bfe396c146d6bad4b37d6dc1f615%20%3D%20%24%28%60%3Cdiv%20id%3D%22html_f842bfe396c146d6bad4b37d6dc1f615%22%20style%3D%22width%3A%20100.0%25%3B%20height%3A%20100.0%25%3B%22%3E%EA%B4%91%ED%99%94%EB%AC%B8%EC%97%AD%207%EB%B2%88%EC%B6%9C%EA%B5%AC%20%EC%95%9E%3C/div%3E%60%29%5B0%5D%3B%0A%20%20%20%20%20%20%20%20%20%20%20%20popup_0cbd4e0c68674f5a9996ed37f6e755b7.setContent%28html_f842bfe396c146d6bad4b37d6dc1f615%29%3B%0A%20%20%20%20%20%20%20%20%0A%0A%20%20%20%20%20%20%20%20marker_c5f0456ddf514a0bbc6b882dd206c78d.bindPopup%28popup_0cbd4e0c68674f5a9996ed37f6e755b7%29%0A%20%20%20%20%20%20%20%20%3B%0A%0A%20%20%20%20%20%20%20%20%0A%20%20%20%20%0A%20%20%20%20%0A%20%20%20%20%20%20%20%20%20%20%20%20var%20marker_005820f5b9964d72bd602c69535bfa45%20%3D%20L.marker%28%0A%20%20%20%20%20%20%20%20%20%20%20%20%20%20%20%20%5B37.57%2C%20126.9711%5D%2C%0A%20%20%20%20%20%20%20%20%20%20%20%20%20%20%20%20%7B%7D%0A%20%20%20%20%20%20%20%20%20%20%20%20%29.addTo%28map_87b6d96935664d509e5639ae75264b8a%29%3B%0A%20%20%20%20%20%20%20%20%0A%20%20%20%20%0A%20%20%20%20%20%20%20%20%20%20%20%20var%20icon_e6741dd2fad34341ae31f599fd7266f5%20%3D%20L.AwesomeMarkers.icon%28%0A%20%20%20%20%20%20%20%20%20%20%20%20%20%20%20%20%7B%22extraClasses%22%3A%20%22fa-rotate-0%22%2C%20%22icon%22%3A%20%22info-sign%22%2C%20%22iconColor%22%3A%20%22white%22%2C%20%22markerColor%22%3A%20%22green%22%2C%20%22prefix%22%3A%20%22glyphicon%22%7D%0A%20%20%20%20%20%20%20%20%20%20%20%20%29%3B%0A%20%20%20%20%20%20%20%20%20%20%20%20marker_005820f5b9964d72bd602c69535bfa45.setIcon%28icon_e6741dd2fad34341ae31f599fd7266f5%29%3B%0A%20%20%20%20%20%20%20%20%0A%20%20%20%20%0A%20%20%20%20%20%20%20%20var%20popup_d72158158a5543e29a6a5b3ab949c8d7%20%3D%20L.popup%28%7B%22maxWidth%22%3A%20%22100%25%22%7D%29%3B%0A%0A%20%20%20%20%20%20%20%20%0A%20%20%20%20%20%20%20%20%20%20%20%20var%20html_eba0d1557cc849e29f7bfc92959962fb%20%3D%20%24%28%60%3Cdiv%20id%3D%22html_eba0d1557cc849e29f7bfc92959962fb%22%20style%3D%22width%3A%20100.0%25%3B%20height%3A%20100.0%25%3B%22%3E%EC%84%9C%EC%9A%B8%EC%97%AD%EC%82%AC%EB%B0%95%EB%AC%BC%EA%B4%80%20%EC%95%9E%3C/div%3E%60%29%5B0%5D%3B%0A%20%20%20%20%20%20%20%20%20%20%20%20popup_d72158158a5543e29a6a5b3ab949c8d7.setContent%28html_eba0d1557cc849e29f7bfc92959962fb%29%3B%0A%20%20%20%20%20%20%20%20%0A%0A%20%20%20%20%20%20%20%20marker_005820f5b9964d72bd602c69535bfa45.bindPopup%28popup_d72158158a5543e29a6a5b3ab949c8d7%29%0A%20%20%20%20%20%20%20%20%3B%0A%0A%20%20%20%20%20%20%20%20%0A%20%20%20%20%0A%20%20%20%20%0A%20%20%20%20%20%20%20%20%20%20%20%20var%20marker_32b9a29e70204005b20f60b7c24b2fdf%20%3D%20L.marker%28%0A%20%20%20%20%20%20%20%20%20%20%20%20%20%20%20%20%5B37.569969%2C%20126.973938%5D%2C%0A%20%20%20%20%20%20%20%20%20%20%20%20%20%20%20%20%7B%7D%0A%20%20%20%20%20%20%20%20%20%20%20%20%29.addTo%28map_87b6d96935664d509e5639ae75264b8a%29%3B%0A%20%20%20%20%20%20%20%20%0A%20%20%20%20%0A%20%20%20%20%20%20%20%20%20%20%20%20var%20icon_c32de3edd26e4b2e9da931982d657c0a%20%3D%20L.AwesomeMarkers.icon%28%0A%20%20%20%20%20%20%20%20%20%20%20%20%20%20%20%20%7B%22extraClasses%22%3A%20%22fa-rotate-0%22%2C%20%22icon%22%3A%20%22info-sign%22%2C%20%22iconColor%22%3A%20%22white%22%2C%20%22markerColor%22%3A%20%22green%22%2C%20%22prefix%22%3A%20%22glyphicon%22%7D%0A%20%20%20%20%20%20%20%20%20%20%20%20%29%3B%0A%20%20%20%20%20%20%20%20%20%20%20%20marker_32b9a29e70204005b20f60b7c24b2fdf.setIcon%28icon_c32de3edd26e4b2e9da931982d657c0a%29%3B%0A%20%20%20%20%20%20%20%20%0A%20%20%20%20%0A%20%20%20%20%20%20%20%20var%20popup_d49d20ed1c9f414daf8cf7dbc250b16a%20%3D%20L.popup%28%7B%22maxWidth%22%3A%20%22100%25%22%7D%29%3B%0A%0A%20%20%20%20%20%20%20%20%0A%20%20%20%20%20%20%20%20%20%20%20%20var%20html_48a2c5622a2d4d0da91a9616a97d617b%20%3D%20%24%28%60%3Cdiv%20id%3D%22html_48a2c5622a2d4d0da91a9616a97d617b%22%20style%3D%22width%3A%20100.0%25%3B%20height%3A%20100.0%25%3B%22%3E%EA%B4%91%ED%99%94%EB%AC%B8%20S%ED%83%80%EC%9B%8C%20%EC%95%9E%3C/div%3E%60%29%5B0%5D%3B%0A%20%20%20%20%20%20%20%20%20%20%20%20popup_d49d20ed1c9f414daf8cf7dbc250b16a.setContent%28html_48a2c5622a2d4d0da91a9616a97d617b%29%3B%0A%20%20%20%20%20%20%20%20%0A%0A%20%20%20%20%20%20%20%20marker_32b9a29e70204005b20f60b7c24b2fdf.bindPopup%28popup_d49d20ed1c9f414daf8cf7dbc250b16a%29%0A%20%20%20%20%20%20%20%20%3B%0A%0A%20%20%20%20%20%20%20%20%0A%20%20%20%20%0A%20%20%20%20%0A%20%20%20%20%20%20%20%20%20%20%20%20var%20marker_9671c4616a804ed5a498bea44720967c%20%3D%20L.marker%28%0A%20%20%20%20%20%20%20%20%20%20%20%20%20%20%20%20%5B37.569889%2C%20126.976456%5D%2C%0A%20%20%20%20%20%20%20%20%20%20%20%20%20%20%20%20%7B%7D%0A%20%20%20%20%20%20%20%20%20%20%20%20%29.addTo%28map_87b6d96935664d509e5639ae75264b8a%29%3B%0A%20%20%20%20%20%20%20%20%0A%20%20%20%20%0A%20%20%20%20%20%20%20%20%20%20%20%20var%20icon_d1eee27cb6aa4c3d8c2cbfb0521dbcf0%20%3D%20L.AwesomeMarkers.icon%28%0A%20%20%20%20%20%20%20%20%20%20%20%20%20%20%20%20%7B%22extraClasses%22%3A%20%22fa-rotate-0%22%2C%20%22icon%22%3A%20%22info-sign%22%2C%20%22iconColor%22%3A%20%22white%22%2C%20%22markerColor%22%3A%20%22green%22%2C%20%22prefix%22%3A%20%22glyphicon%22%7D%0A%20%20%20%20%20%20%20%20%20%20%20%20%29%3B%0A%20%20%20%20%20%20%20%20%20%20%20%20marker_9671c4616a804ed5a498bea44720967c.setIcon%28icon_d1eee27cb6aa4c3d8c2cbfb0521dbcf0%29%3B%0A%20%20%20%20%20%20%20%20%0A%20%20%20%20%0A%20%20%20%20%20%20%20%20var%20popup_5964d47965bd409e82bfaa94ac186b57%20%3D%20L.popup%28%7B%22maxWidth%22%3A%20%22100%25%22%7D%29%3B%0A%0A%20%20%20%20%20%20%20%20%0A%20%20%20%20%20%20%20%20%20%20%20%20var%20html_de5594f4adf347cdaf67041804850c97%20%3D%20%24%28%60%3Cdiv%20id%3D%22html_de5594f4adf347cdaf67041804850c97%22%20style%3D%22width%3A%20100.0%25%3B%20height%3A%20100.0%25%3B%22%3E%EA%B4%91%ED%99%94%EB%AC%B8%EC%97%AD%206%EB%B2%88%EC%B6%9C%EA%B5%AC%20%EC%98%86%3C/div%3E%60%29%5B0%5D%3B%0A%20%20%20%20%20%20%20%20%20%20%20%20popup_5964d47965bd409e82bfaa94ac186b57.setContent%28html_de5594f4adf347cdaf67041804850c97%29%3B%0A%20%20%20%20%20%20%20%20%0A%0A%20%20%20%20%20%20%20%20marker_9671c4616a804ed5a498bea44720967c.bindPopup%28popup_5964d47965bd409e82bfaa94ac186b57%29%0A%20%20%20%20%20%20%20%20%3B%0A%0A%20%20%20%20%20%20%20%20%0A%20%20%20%20%0A%20%20%20%20%0A%20%20%20%20%20%20%20%20%20%20%20%20var%20marker_b3019c36b713444382503e3e824ee5d4%20%3D%20L.marker%28%0A%20%20%20%20%20%20%20%20%20%20%20%20%20%20%20%20%5B37.579708%2C%20126.980858%5D%2C%0A%20%20%20%20%20%20%20%20%20%20%20%20%20%20%20%20%7B%7D%0A%20%20%20%20%20%20%20%20%20%20%20%20%29.addTo%28map_87b6d96935664d509e5639ae75264b8a%29%3B%0A%20%20%20%20%20%20%20%20%0A%20%20%20%20%0A%20%20%20%20%20%20%20%20%20%20%20%20var%20icon_14d7137b60474ff79b7b1a4699bd90a3%20%3D%20L.AwesomeMarkers.icon%28%0A%20%20%20%20%20%20%20%20%20%20%20%20%20%20%20%20%7B%22extraClasses%22%3A%20%22fa-rotate-0%22%2C%20%22icon%22%3A%20%22info-sign%22%2C%20%22iconColor%22%3A%20%22white%22%2C%20%22markerColor%22%3A%20%22green%22%2C%20%22prefix%22%3A%20%22glyphicon%22%7D%0A%20%20%20%20%20%20%20%20%20%20%20%20%29%3B%0A%20%20%20%20%20%20%20%20%20%20%20%20marker_b3019c36b713444382503e3e824ee5d4.setIcon%28icon_14d7137b60474ff79b7b1a4699bd90a3%29%3B%0A%20%20%20%20%20%20%20%20%0A%20%20%20%20%0A%20%20%20%20%20%20%20%20var%20popup_2407f19b10064b43826fda5fdde71043%20%3D%20L.popup%28%7B%22maxWidth%22%3A%20%22100%25%22%7D%29%3B%0A%0A%20%20%20%20%20%20%20%20%0A%20%20%20%20%20%20%20%20%20%20%20%20var%20html_deb15fe42c7d40eba18a5240b0d17cf0%20%3D%20%24%28%60%3Cdiv%20id%3D%22html_deb15fe42c7d40eba18a5240b0d17cf0%22%20style%3D%22width%3A%20100.0%25%3B%20height%3A%20100.0%25%3B%22%3E%EA%B5%AD%EB%A6%BD%ED%98%84%EB%8C%80%EB%AF%B8%EC%88%A0%EA%B4%80%3C/div%3E%60%29%5B0%5D%3B%0A%20%20%20%20%20%20%20%20%20%20%20%20popup_2407f19b10064b43826fda5fdde71043.setContent%28html_deb15fe42c7d40eba18a5240b0d17cf0%29%3B%0A%20%20%20%20%20%20%20%20%0A%0A%20%20%20%20%20%20%20%20marker_b3019c36b713444382503e3e824ee5d4.bindPopup%28popup_2407f19b10064b43826fda5fdde71043%29%0A%20%20%20%20%20%20%20%20%3B%0A%0A%20%20%20%20%20%20%20%20%0A%20%20%20%20%0A%3C/script%3E onload=\"this.contentDocument.open();this.contentDocument.write(    decodeURIComponent(this.getAttribute('data-html')));this.contentDocument.close();\" allowfullscreen webkitallowfullscreen mozallowfullscreen></iframe></div></div>"
      ],
      "text/plain": [
       "<folium.folium.Map at 0x7fda7647fb80>"
      ]
     },
     "execution_count": 47,
     "metadata": {},
     "output_type": "execute_result"
    }
   ],
   "source": [
    "gmap = folium.Map(location=[df_station_info['lat'][0], df_station_info['lon'][0]], zoom_start=15)\n",
    "for i in range(len(df_station_info[:10])):\n",
    "    folium.Marker([(df_station_info['lat'][i]), (df_station_info['lon'][i])],\n",
    "                   popup=df_station_info['station_name'][i],\n",
    "                   icon=folium.Icon(color='green')).add_to(gmap)\n",
    "# folium.Marker([126.91062927, 37.55564880], popup='102. 망원역 1번출구 앞').add_to(gmap)\n",
    "gmap"
   ]
  },
  {
   "cell_type": "code",
   "execution_count": 70,
   "metadata": {
    "ExecuteTime": {
     "end_time": "2021-06-17T04:52:23.597782Z",
     "start_time": "2021-06-17T04:52:23.462825Z"
    }
   },
   "outputs": [],
   "source": [
    "gu_agg = df_address_join.groupby('gu')['rent_date'].agg('count')"
   ]
  },
  {
   "cell_type": "code",
   "execution_count": 71,
   "metadata": {
    "ExecuteTime": {
     "end_time": "2021-06-17T04:52:26.671003Z",
     "start_time": "2021-06-17T04:52:26.659077Z"
    },
    "collapsed": true
   },
   "outputs": [
    {
     "data": {
      "text/plain": [
       "gu\n",
       "강남구     22307\n",
       "강동구     23321\n",
       "강북구     14581\n",
       "강서구     65701\n",
       "관악구     23926\n",
       "광진구     33116\n",
       "구로구     27721\n",
       "금천구     11920\n",
       "노원구     37301\n",
       "도봉구     15197\n",
       "동대문구    29815\n",
       "동작구     16855\n",
       "마포구     42253\n",
       "서대문구    20886\n",
       "서초구     26378\n",
       "성동구     32064\n",
       "성북구     23113\n",
       "송파구     48548\n",
       "양천구     38330\n",
       "영등포구    54978\n",
       "용산구     15563\n",
       "은평구     23072\n",
       "종로구     31610\n",
       "중구      18336\n",
       "중랑구     20698\n",
       "Name: rent_date, dtype: int64"
      ]
     },
     "execution_count": 71,
     "metadata": {},
     "output_type": "execute_result"
    }
   ],
   "source": [
    "gu_agg"
   ]
  },
  {
   "cell_type": "code",
   "execution_count": 74,
   "metadata": {
    "ExecuteTime": {
     "end_time": "2021-06-17T04:53:09.143446Z",
     "start_time": "2021-06-17T04:53:09.138401Z"
    }
   },
   "outputs": [],
   "source": [
    "df_gu_agg['gu'] = df_gu_agg.index"
   ]
  },
  {
   "cell_type": "code",
   "execution_count": 76,
   "metadata": {
    "ExecuteTime": {
     "end_time": "2021-06-17T04:53:30.161107Z",
     "start_time": "2021-06-17T04:53:30.155654Z"
    }
   },
   "outputs": [
    {
     "data": {
      "text/plain": [
       "Index(['rent_date', 'gu'], dtype='object')"
      ]
     },
     "execution_count": 76,
     "metadata": {},
     "output_type": "execute_result"
    }
   ],
   "source": [
    "df_gu_agg.columns"
   ]
  },
  {
   "cell_type": "code",
   "execution_count": 117,
   "metadata": {
    "ExecuteTime": {
     "end_time": "2021-06-17T05:17:53.634106Z",
     "start_time": "2021-06-17T05:17:53.548221Z"
    },
    "collapsed": true
   },
   "outputs": [
    {
     "data": {
      "text/plain": [
       "[{'address_components': [{'long_name': '성북구',\n",
       "    'short_name': '성북구',\n",
       "    'types': ['political', 'sublocality', 'sublocality_level_1']},\n",
       "   {'long_name': '서울특별시',\n",
       "    'short_name': '서울특별시',\n",
       "    'types': ['administrative_area_level_1', 'political']},\n",
       "   {'long_name': '대한민국',\n",
       "    'short_name': 'KR',\n",
       "    'types': ['country', 'political']}],\n",
       "  'formatted_address': '대한민국 서울특별시 성북구',\n",
       "  'geometry': {'bounds': {'northeast': {'lat': 37.6271902, 'lng': 127.0720849},\n",
       "    'southwest': {'lat': 37.5774687, 'lng': 126.9783871}},\n",
       "   'location': {'lat': 37.589116, 'lng': 127.0182146},\n",
       "   'location_type': 'APPROXIMATE',\n",
       "   'viewport': {'northeast': {'lat': 37.6271902, 'lng': 127.0720849},\n",
       "    'southwest': {'lat': 37.5774687, 'lng': 126.9783871}}},\n",
       "  'place_id': 'ChIJGeZFRJG8fDURJLVXqTcSm2w',\n",
       "  'types': ['political', 'sublocality', 'sublocality_level_1']},\n",
       " {'address_components': [{'long_name': '강서구',\n",
       "    'short_name': '강서구',\n",
       "    'types': ['political', 'sublocality', 'sublocality_level_1']},\n",
       "   {'long_name': '서울특별시',\n",
       "    'short_name': '서울특별시',\n",
       "    'types': ['administrative_area_level_1', 'political']},\n",
       "   {'long_name': '대한민국',\n",
       "    'short_name': 'KR',\n",
       "    'types': ['country', 'political']}],\n",
       "  'formatted_address': '대한민국 서울특별시 강서구',\n",
       "  'geometry': {'bounds': {'northeast': {'lat': 37.6081377, 'lng': 126.8822385},\n",
       "    'southwest': {'lat': 37.5264402, 'lng': 126.7645827}},\n",
       "   'location': {'lat': 37.5509786, 'lng': 126.8495382},\n",
       "   'location_type': 'APPROXIMATE',\n",
       "   'viewport': {'northeast': {'lat': 37.6081377, 'lng': 126.8822385},\n",
       "    'southwest': {'lat': 37.5264402, 'lng': 126.7645827}}},\n",
       "  'place_id': 'ChIJvWw9qomcfDUR0ZfqA9PYC58',\n",
       "  'types': ['political', 'sublocality', 'sublocality_level_1']},\n",
       " {'address_components': [{'long_name': '송파구',\n",
       "    'short_name': '송파구',\n",
       "    'types': ['political', 'sublocality', 'sublocality_level_1']},\n",
       "   {'long_name': '서울특별시',\n",
       "    'short_name': '서울특별시',\n",
       "    'types': ['administrative_area_level_1', 'political']},\n",
       "   {'long_name': '대한민국',\n",
       "    'short_name': 'KR',\n",
       "    'types': ['country', 'political']}],\n",
       "  'formatted_address': '대한민국 서울특별시 송파구',\n",
       "  'geometry': {'bounds': {'northeast': {'lat': 37.5434754, 'lng': 127.1617183},\n",
       "    'southwest': {'lat': 37.4660066, 'lng': 127.0672115}},\n",
       "   'location': {'lat': 37.5145437, 'lng': 127.1065971},\n",
       "   'location_type': 'APPROXIMATE',\n",
       "   'viewport': {'northeast': {'lat': 37.5434754, 'lng': 127.1617183},\n",
       "    'southwest': {'lat': 37.4660066, 'lng': 127.0672115}}},\n",
       "  'place_id': 'ChIJd0dO0JylfDURdcviRsh5HYk',\n",
       "  'types': ['political', 'sublocality', 'sublocality_level_1']},\n",
       " {'address_components': [{'long_name': '성동구',\n",
       "    'short_name': '성동구',\n",
       "    'types': ['political', 'sublocality', 'sublocality_level_1']},\n",
       "   {'long_name': '서울특별시',\n",
       "    'short_name': '서울특별시',\n",
       "    'types': ['administrative_area_level_1', 'political']},\n",
       "   {'long_name': '대한민국',\n",
       "    'short_name': 'KR',\n",
       "    'types': ['country', 'political']}],\n",
       "  'formatted_address': '대한민국 서울특별시 성동구',\n",
       "  'geometry': {'bounds': {'northeast': {'lat': 37.5730714, 'lng': 127.0736798},\n",
       "    'southwest': {'lat': 37.5286821, 'lng': 127.0081105}},\n",
       "   'location': {'lat': 37.5633415, 'lng': 127.0371025},\n",
       "   'location_type': 'APPROXIMATE',\n",
       "   'viewport': {'northeast': {'lat': 37.5730714, 'lng': 127.0736798},\n",
       "    'southwest': {'lat': 37.5286821, 'lng': 127.0081105}}},\n",
       "  'place_id': 'ChIJ51eHxJ-kfDURosv3-kFExis',\n",
       "  'types': ['political', 'sublocality', 'sublocality_level_1']},\n",
       " {'address_components': [{'long_name': '서대문구',\n",
       "    'short_name': '서대문구',\n",
       "    'types': ['political', 'sublocality', 'sublocality_level_1']},\n",
       "   {'long_name': '서울특별시',\n",
       "    'short_name': '서울특별시',\n",
       "    'types': ['administrative_area_level_1', 'political']},\n",
       "   {'long_name': '대한민국',\n",
       "    'short_name': 'KR',\n",
       "    'types': ['country', 'political']}],\n",
       "  'formatted_address': '대한민국 서울특별시 서대문구',\n",
       "  'geometry': {'bounds': {'northeast': {'lat': 37.6115807, 'lng': 126.9693403},\n",
       "    'southwest': {'lat': 37.5550433, 'lng': 126.9019799}},\n",
       "   'location': {'lat': 37.5791158, 'lng': 126.9367789},\n",
       "   'location_type': 'APPROXIMATE',\n",
       "   'viewport': {'northeast': {'lat': 37.6115807, 'lng': 126.9693403},\n",
       "    'southwest': {'lat': 37.5550433, 'lng': 126.9019799}}},\n",
       "  'place_id': 'ChIJnQRRjmiYfDURXNqeJBtzWRE',\n",
       "  'types': ['political', 'sublocality', 'sublocality_level_1']},\n",
       " {'address_components': [{'long_name': '구로구',\n",
       "    'short_name': '구로구',\n",
       "    'types': ['political', 'sublocality', 'sublocality_level_1']},\n",
       "   {'long_name': '서울특별시',\n",
       "    'short_name': '서울특별시',\n",
       "    'types': ['administrative_area_level_1', 'political']},\n",
       "   {'long_name': '대한민국',\n",
       "    'short_name': 'KR',\n",
       "    'types': ['country', 'political']}],\n",
       "  'formatted_address': '대한민국 서울특별시 구로구',\n",
       "  'geometry': {'bounds': {'northeast': {'lat': 37.5182289, 'lng': 126.9030494},\n",
       "    'southwest': {'lat': 37.4733012, 'lng': 126.81269}},\n",
       "   'location': {'lat': 37.4954031, 'lng': 126.887369},\n",
       "   'location_type': 'APPROXIMATE',\n",
       "   'viewport': {'northeast': {'lat': 37.5182289, 'lng': 126.9030494},\n",
       "    'southwest': {'lat': 37.4733012, 'lng': 126.81269}}},\n",
       "  'place_id': 'ChIJ94ExD_qdfDURrFSdZ15N3jc',\n",
       "  'types': ['political', 'sublocality', 'sublocality_level_1']},\n",
       " {'address_components': [{'long_name': '강동구',\n",
       "    'short_name': '강동구',\n",
       "    'types': ['political', 'sublocality', 'sublocality_level_1']},\n",
       "   {'long_name': '서울특별시',\n",
       "    'short_name': '서울특별시',\n",
       "    'types': ['administrative_area_level_1', 'political']},\n",
       "   {'long_name': '대한민국',\n",
       "    'short_name': 'KR',\n",
       "    'types': ['country', 'political']}],\n",
       "  'formatted_address': '대한민국 서울특별시 강동구',\n",
       "  'geometry': {'bounds': {'northeast': {'lat': 37.5817974, 'lng': 127.1835899},\n",
       "    'southwest': {'lat': 37.5168014, 'lng': 127.109265}},\n",
       "   'location': {'lat': 37.5301251, 'lng': 127.123762},\n",
       "   'location_type': 'APPROXIMATE',\n",
       "   'viewport': {'northeast': {'lat': 37.5817974, 'lng': 127.1835899},\n",
       "    'southwest': {'lat': 37.5168014, 'lng': 127.109265}}},\n",
       "  'place_id': 'ChIJOVvKgxWwfDURiyyT9sq7aX4',\n",
       "  'types': ['political', 'sublocality', 'sublocality_level_1']},\n",
       " {'address_components': [{'long_name': '강북구',\n",
       "    'short_name': '강북구',\n",
       "    'types': ['political', 'sublocality', 'sublocality_level_1']},\n",
       "   {'long_name': '서울특별시',\n",
       "    'short_name': '서울특별시',\n",
       "    'types': ['administrative_area_level_1', 'political']},\n",
       "   {'long_name': '대한민국',\n",
       "    'short_name': 'KR',\n",
       "    'types': ['country', 'political']}],\n",
       "  'formatted_address': '대한민국 서울특별시 강북구',\n",
       "  'geometry': {'bounds': {'northeast': {'lat': 37.6873967, 'lng': 127.049616},\n",
       "    'southwest': {'lat': 37.6090294, 'lng': 126.9831976}},\n",
       "   'location': {'lat': 37.6396099, 'lng': 127.0256575},\n",
       "   'location_type': 'APPROXIMATE',\n",
       "   'viewport': {'northeast': {'lat': 37.6873967, 'lng': 127.049616},\n",
       "    'southwest': {'lat': 37.6090294, 'lng': 126.9831976}}},\n",
       "  'place_id': 'ChIJgV0Ihhi8fDUR_Ixpm4VQTVI',\n",
       "  'types': ['political', 'sublocality', 'sublocality_level_1']},\n",
       " {'address_components': [{'long_name': '관악구',\n",
       "    'short_name': '관악구',\n",
       "    'types': ['political', 'sublocality', 'sublocality_level_1']},\n",
       "   {'long_name': '서울특별시',\n",
       "    'short_name': '서울특별시',\n",
       "    'types': ['administrative_area_level_1', 'political']},\n",
       "   {'long_name': '대한민국',\n",
       "    'short_name': 'KR',\n",
       "    'types': ['country', 'political']}],\n",
       "  'formatted_address': '대한민국 서울특별시 관악구',\n",
       "  'geometry': {'bounds': {'northeast': {'lat': 37.4949789, 'lng': 126.989411},\n",
       "    'southwest': {'lat': 37.4359269, 'lng': 126.8990847}},\n",
       "   'location': {'lat': 37.4784063, 'lng': 126.9516133},\n",
       "   'location_type': 'APPROXIMATE',\n",
       "   'viewport': {'northeast': {'lat': 37.4949789, 'lng': 126.989411},\n",
       "    'southwest': {'lat': 37.4359269, 'lng': 126.8990847}}},\n",
       "  'place_id': 'ChIJG0csxfqffDURyc3_VosTs00',\n",
       "  'types': ['political', 'sublocality', 'sublocality_level_1']},\n",
       " {'address_components': [{'long_name': '은평구',\n",
       "    'short_name': '은평구',\n",
       "    'types': ['political', 'sublocality', 'sublocality_level_1']},\n",
       "   {'long_name': '서울특별시',\n",
       "    'short_name': '서울특별시',\n",
       "    'types': ['administrative_area_level_1', 'political']},\n",
       "   {'long_name': '대한민국',\n",
       "    'short_name': 'KR',\n",
       "    'types': ['country', 'political']}],\n",
       "  'formatted_address': '대한민국 서울특별시 은평구',\n",
       "  'geometry': {'bounds': {'northeast': {'lat': 37.6590814, 'lng': 126.9678638},\n",
       "    'southwest': {'lat': 37.5759399, 'lng': 126.8819693}},\n",
       "   'location': {'lat': 37.6026957, 'lng': 126.9291119},\n",
       "   'location_type': 'APPROXIMATE',\n",
       "   'viewport': {'northeast': {'lat': 37.6590814, 'lng': 126.9678638},\n",
       "    'southwest': {'lat': 37.5759399, 'lng': 126.8819693}}},\n",
       "  'place_id': 'ChIJhQgINIaXfDURRpZQzjAU4v8',\n",
       "  'types': ['political', 'sublocality', 'sublocality_level_1']},\n",
       " {'address_components': [{'long_name': '중랑구',\n",
       "    'short_name': '중랑구',\n",
       "    'types': ['political', 'sublocality', 'sublocality_level_1']},\n",
       "   {'long_name': '서울특별시',\n",
       "    'short_name': '서울특별시',\n",
       "    'types': ['administrative_area_level_1', 'political']},\n",
       "   {'long_name': '대한민국',\n",
       "    'short_name': 'KR',\n",
       "    'types': ['country', 'political']}],\n",
       "  'formatted_address': '대한민국 서울특별시 중랑구',\n",
       "  'geometry': {'bounds': {'northeast': {'lat': 37.6208463, 'lng': 127.1218796},\n",
       "    'southwest': {'lat': 37.569253, 'lng': 127.0695327}},\n",
       "   'location': {'lat': 37.6065602, 'lng': 127.0926519},\n",
       "   'location_type': 'APPROXIMATE',\n",
       "   'viewport': {'northeast': {'lat': 37.6208463, 'lng': 127.1218796},\n",
       "    'southwest': {'lat': 37.569253, 'lng': 127.0695327}}},\n",
       "  'place_id': 'ChIJWUd0flq6fDURt0PJ1_ZNip0',\n",
       "  'types': ['political', 'sublocality', 'sublocality_level_1']},\n",
       " {'address_components': [{'long_name': '도봉구',\n",
       "    'short_name': '도봉구',\n",
       "    'types': ['political', 'sublocality', 'sublocality_level_1']},\n",
       "   {'long_name': '서울특별시',\n",
       "    'short_name': '서울특별시',\n",
       "    'types': ['administrative_area_level_1', 'political']},\n",
       "   {'long_name': '대한민국',\n",
       "    'short_name': 'KR',\n",
       "    'types': ['country', 'political']}],\n",
       "  'formatted_address': '대한민국 서울특별시 도봉구',\n",
       "  'geometry': {'bounds': {'northeast': {'lat': 37.7017495, 'lng': 127.0559692},\n",
       "    'southwest': {'lat': 37.63071559999999, 'lng': 127.0037758}},\n",
       "   'location': {'lat': 37.6687738, 'lng': 127.0470706},\n",
       "   'location_type': 'APPROXIMATE',\n",
       "   'viewport': {'northeast': {'lat': 37.7017495, 'lng': 127.0559692},\n",
       "    'southwest': {'lat': 37.63071559999999, 'lng': 127.0037758}}},\n",
       "  'place_id': 'ChIJ604SAre-fDURcde2qRfS5Bc',\n",
       "  'types': ['political', 'sublocality', 'sublocality_level_1']},\n",
       " {'address_components': [{'long_name': '노원구',\n",
       "    'short_name': '노원구',\n",
       "    'types': ['political', 'sublocality', 'sublocality_level_1']},\n",
       "   {'long_name': '서울특별시',\n",
       "    'short_name': '서울특별시',\n",
       "    'types': ['administrative_area_level_1', 'political']},\n",
       "   {'long_name': '대한민국',\n",
       "    'short_name': 'KR',\n",
       "    'types': ['country', 'political']}],\n",
       "  'formatted_address': '대한민국 서울특별시 노원구',\n",
       "  'geometry': {'bounds': {'northeast': {'lat': 37.6943042, 'lng': 127.1122885},\n",
       "    'southwest': {'lat': 37.6140871, 'lng': 127.04165}},\n",
       "   'location': {'lat': 37.6541917, 'lng': 127.056793},\n",
       "   'location_type': 'APPROXIMATE',\n",
       "   'viewport': {'northeast': {'lat': 37.6943042, 'lng': 127.1122885},\n",
       "    'southwest': {'lat': 37.6140871, 'lng': 127.04165}}},\n",
       "  'place_id': 'ChIJT7t8Cwy5fDURYA4in7yNm9w',\n",
       "  'types': ['political', 'sublocality', 'sublocality_level_1']},\n",
       " {'address_components': [{'long_name': '종로구',\n",
       "    'short_name': '종로구',\n",
       "    'types': ['political', 'sublocality', 'sublocality_level_1']},\n",
       "   {'long_name': '서울특별시',\n",
       "    'short_name': '서울특별시',\n",
       "    'types': ['administrative_area_level_1', 'political']},\n",
       "   {'long_name': '대한민국',\n",
       "    'short_name': 'KR',\n",
       "    'types': ['country', 'political']}],\n",
       "  'formatted_address': '대한민국 서울특별시 종로구',\n",
       "  'geometry': {'bounds': {'northeast': {'lat': 37.63633859999999,\n",
       "     'lng': 127.0234666},\n",
       "    'southwest': {'lat': 37.5654828, 'lng': 126.9436969}},\n",
       "   'location': {'lat': 37.5729503, 'lng': 126.9793579},\n",
       "   'location_type': 'APPROXIMATE',\n",
       "   'viewport': {'northeast': {'lat': 37.63633859999999, 'lng': 127.0234666},\n",
       "    'southwest': {'lat': 37.5654828, 'lng': 126.9436969}}},\n",
       "  'place_id': 'ChIJS5wn3S-9fDUR5ly4ei6px1A',\n",
       "  'types': ['political', 'sublocality', 'sublocality_level_1']},\n",
       " {'address_components': [{'long_name': '동대문구',\n",
       "    'short_name': '동대문구',\n",
       "    'types': ['political', 'sublocality', 'sublocality_level_1']},\n",
       "   {'long_name': '서울특별시',\n",
       "    'short_name': '서울특별시',\n",
       "    'types': ['administrative_area_level_1', 'political']},\n",
       "   {'long_name': '대한민국',\n",
       "    'short_name': 'KR',\n",
       "    'types': ['country', 'political']}],\n",
       "  'formatted_address': '대한민국 서울특별시 동대문구',\n",
       "  'geometry': {'bounds': {'northeast': {'lat': 37.6075008, 'lng': 127.0781357},\n",
       "    'southwest': {'lat': 37.5596501, 'lng': 127.0229698}},\n",
       "   'location': {'lat': 37.57436819999999, 'lng': 127.0400189},\n",
       "   'location_type': 'APPROXIMATE',\n",
       "   'viewport': {'northeast': {'lat': 37.6075008, 'lng': 127.0781357},\n",
       "    'southwest': {'lat': 37.5596501, 'lng': 127.0229698}}},\n",
       "  'place_id': 'ChIJwY4p1Fy7fDURJCttt7vIQOA',\n",
       "  'types': ['political', 'sublocality', 'sublocality_level_1']},\n",
       " {'address_components': [{'long_name': '광진구',\n",
       "    'short_name': '광진구',\n",
       "    'types': ['political', 'sublocality', 'sublocality_level_1']},\n",
       "   {'long_name': '서울특별시',\n",
       "    'short_name': '서울특별시',\n",
       "    'types': ['administrative_area_level_1', 'political']},\n",
       "   {'long_name': '대한민국',\n",
       "    'short_name': 'KR',\n",
       "    'types': ['country', 'political']}],\n",
       "  'formatted_address': '대한민국 서울특별시 광진구',\n",
       "  'geometry': {'bounds': {'northeast': {'lat': 37.5725795, 'lng': 127.1161444},\n",
       "    'southwest': {'lat': 37.5199637, 'lng': 127.0555968}},\n",
       "   'location': {'lat': 37.5384843, 'lng': 127.0822938},\n",
       "   'location_type': 'APPROXIMATE',\n",
       "   'viewport': {'northeast': {'lat': 37.5725795, 'lng': 127.1161444},\n",
       "    'southwest': {'lat': 37.5199637, 'lng': 127.0555968}}},\n",
       "  'place_id': 'ChIJCRkc-CilfDURMf90Sfel8ag',\n",
       "  'types': ['political', 'sublocality', 'sublocality_level_1']},\n",
       " {'address_components': [{'long_name': '영등포구',\n",
       "    'short_name': '영등포구',\n",
       "    'types': ['political', 'sublocality', 'sublocality_level_1']},\n",
       "   {'long_name': '서울특별시',\n",
       "    'short_name': '서울특별시',\n",
       "    'types': ['administrative_area_level_1', 'political']},\n",
       "   {'long_name': '대한민국',\n",
       "    'short_name': 'KR',\n",
       "    'types': ['country', 'political']}],\n",
       "  'formatted_address': '대한민국 서울특별시 영등포구',\n",
       "  'geometry': {'bounds': {'northeast': {'lat': 37.5567529, 'lng': 126.9492955},\n",
       "    'southwest': {'lat': 37.4849154, 'lng': 126.8773568}},\n",
       "   'location': {'lat': 37.5263715, 'lng': 126.8962283},\n",
       "   'location_type': 'APPROXIMATE',\n",
       "   'viewport': {'northeast': {'lat': 37.5567529, 'lng': 126.9492955},\n",
       "    'southwest': {'lat': 37.4849154, 'lng': 126.8773568}}},\n",
       "  'place_id': 'ChIJk_FAvx2ffDURQAuECsjy0Cw',\n",
       "  'types': ['political', 'sublocality', 'sublocality_level_1']},\n",
       " {'address_components': [{'long_name': '용산구',\n",
       "    'short_name': '용산구',\n",
       "    'types': ['political', 'sublocality', 'sublocality_level_1']},\n",
       "   {'long_name': '서울특별시',\n",
       "    'short_name': '서울특별시',\n",
       "    'types': ['administrative_area_level_1', 'political']},\n",
       "   {'long_name': '대한민국',\n",
       "    'short_name': 'KR',\n",
       "    'types': ['country', 'political']}],\n",
       "  'formatted_address': '대한민국 서울특별시 용산구',\n",
       "  'geometry': {'bounds': {'northeast': {'lat': 37.555498, 'lng': 127.0180284},\n",
       "    'southwest': {'lat': 37.5055435, 'lng': 126.943906}},\n",
       "   'location': {'lat': 37.5384272, 'lng': 126.9654442},\n",
       "   'location_type': 'APPROXIMATE',\n",
       "   'viewport': {'northeast': {'lat': 37.555498, 'lng': 127.0180284},\n",
       "    'southwest': {'lat': 37.5055435, 'lng': 126.943906}}},\n",
       "  'place_id': 'ChIJ0z8xfjyifDURF7H5KqUsNKQ',\n",
       "  'types': ['political', 'sublocality', 'sublocality_level_1']},\n",
       " {'address_components': [{'long_name': '양천구',\n",
       "    'short_name': '양천구',\n",
       "    'types': ['political', 'sublocality', 'sublocality_level_1']},\n",
       "   {'long_name': '서울특별시',\n",
       "    'short_name': '서울특별시',\n",
       "    'types': ['administrative_area_level_1', 'political']},\n",
       "   {'long_name': '대한민국',\n",
       "    'short_name': 'KR',\n",
       "    'types': ['country', 'political']}],\n",
       "  'formatted_address': '대한민국 서울특별시 양천구',\n",
       "  'geometry': {'bounds': {'northeast': {'lat': 37.5512373, 'lng': 126.8911254},\n",
       "    'southwest': {'lat': 37.5036266, 'lng': 126.8206314}},\n",
       "   'location': {'lat': 37.5168721, 'lng': 126.8663985},\n",
       "   'location_type': 'APPROXIMATE',\n",
       "   'viewport': {'northeast': {'lat': 37.5512373, 'lng': 126.8911254},\n",
       "    'southwest': {'lat': 37.5036266, 'lng': 126.8206314}}},\n",
       "  'place_id': 'ChIJy2R4Nc2dfDUR2b5LharDY9M',\n",
       "  'types': ['political', 'sublocality', 'sublocality_level_1']},\n",
       " {'address_components': [{'long_name': '마포구',\n",
       "    'short_name': '마포구',\n",
       "    'types': ['political', 'sublocality', 'sublocality_level_1']},\n",
       "   {'long_name': '서울특별시',\n",
       "    'short_name': '서울특별시',\n",
       "    'types': ['administrative_area_level_1', 'political']},\n",
       "   {'long_name': '대한민국',\n",
       "    'short_name': 'KR',\n",
       "    'types': ['country', 'political']}],\n",
       "  'formatted_address': '대한민국 서울특별시 마포구',\n",
       "  'geometry': {'bounds': {'northeast': {'lat': 37.5907832, 'lng': 126.9639466},\n",
       "    'southwest': {'lat': 37.5324094, 'lng': 126.8533395}},\n",
       "   'location': {'lat': 37.5637561, 'lng': 126.9084211},\n",
       "   'location_type': 'APPROXIMATE',\n",
       "   'viewport': {'northeast': {'lat': 37.5907832, 'lng': 126.9639466},\n",
       "    'southwest': {'lat': 37.5324094, 'lng': 126.8533395}}},\n",
       "  'place_id': 'ChIJIWguayCZfDURBR0f-llT68I',\n",
       "  'types': ['political', 'sublocality', 'sublocality_level_1']},\n",
       " {'address_components': [{'long_name': '서초구',\n",
       "    'short_name': '서초구',\n",
       "    'types': ['political', 'sublocality', 'sublocality_level_1']},\n",
       "   {'long_name': '서울특별시',\n",
       "    'short_name': '서울특별시',\n",
       "    'types': ['administrative_area_level_1', 'political']},\n",
       "   {'long_name': '대한민국',\n",
       "    'short_name': 'KR',\n",
       "    'types': ['country', 'political']}],\n",
       "  'formatted_address': '대한민국 서울특별시 서초구',\n",
       "  'geometry': {'bounds': {'northeast': {'lat': 37.5260893, 'lng': 127.0948845},\n",
       "    'southwest': {'lat': 37.4259627, 'lng': 126.9795194}},\n",
       "   'location': {'lat': 37.4837121, 'lng': 127.0324112},\n",
       "   'location_type': 'APPROXIMATE',\n",
       "   'viewport': {'northeast': {'lat': 37.5260893, 'lng': 127.0948845},\n",
       "    'southwest': {'lat': 37.4259627, 'lng': 126.9795194}}},\n",
       "  'place_id': 'ChIJ0ay8ZjShfDURq_YqSP_HC7c',\n",
       "  'types': ['political', 'sublocality', 'sublocality_level_1']},\n",
       " {'address_components': [{'long_name': '강남구',\n",
       "    'short_name': '강남구',\n",
       "    'types': ['political', 'sublocality', 'sublocality_level_1']},\n",
       "   {'long_name': '서울특별시',\n",
       "    'short_name': '서울특별시',\n",
       "    'types': ['administrative_area_level_1', 'political']},\n",
       "   {'long_name': '대한민국',\n",
       "    'short_name': 'KR',\n",
       "    'types': ['country', 'political']}],\n",
       "  'formatted_address': '대한민국 서울특별시 강남구',\n",
       "  'geometry': {'bounds': {'northeast': {'lat': 37.5373614, 'lng': 127.1244733},\n",
       "    'southwest': {'lat': 37.4563361, 'lng': 127.0114055}},\n",
       "   'location': {'lat': 37.5172363, 'lng': 127.0473248},\n",
       "   'location_type': 'APPROXIMATE',\n",
       "   'viewport': {'northeast': {'lat': 37.5373614, 'lng': 127.1244733},\n",
       "    'southwest': {'lat': 37.4563361, 'lng': 127.0114055}}},\n",
       "  'place_id': 'ChIJ-4m1XyOkfDURartwxRuXMbM',\n",
       "  'types': ['political', 'sublocality', 'sublocality_level_1']},\n",
       " {'address_components': [{'long_name': '중구',\n",
       "    'short_name': '중구',\n",
       "    'types': ['political', 'sublocality', 'sublocality_level_1']},\n",
       "   {'long_name': '서울특별시',\n",
       "    'short_name': '서울특별시',\n",
       "    'types': ['administrative_area_level_1', 'political']},\n",
       "   {'long_name': '대한민국',\n",
       "    'short_name': 'KR',\n",
       "    'types': ['country', 'political']}],\n",
       "  'formatted_address': '대한민국 서울특별시 중구',\n",
       "  'geometry': {'bounds': {'northeast': {'lat': 37.5719369, 'lng': 127.0268487},\n",
       "    'southwest': {'lat': 37.5434125, 'lng': 126.961482}},\n",
       "   'location': {'lat': 37.5640907, 'lng': 126.9979403},\n",
       "   'location_type': 'APPROXIMATE',\n",
       "   'viewport': {'northeast': {'lat': 37.5719369, 'lng': 127.0268487},\n",
       "    'southwest': {'lat': 37.5434125, 'lng': 126.961482}}},\n",
       "  'place_id': 'ChIJm_WhU_yifDURF56eaO5Ufl8',\n",
       "  'types': ['political', 'sublocality', 'sublocality_level_1']},\n",
       " {'address_components': [{'long_name': '금천구',\n",
       "    'short_name': '금천구',\n",
       "    'types': ['political', 'sublocality', 'sublocality_level_1']},\n",
       "   {'long_name': '서울특별시',\n",
       "    'short_name': '서울특별시',\n",
       "    'types': ['administrative_area_level_1', 'political']},\n",
       "   {'long_name': '대한민국',\n",
       "    'short_name': 'KR',\n",
       "    'types': ['country', 'political']}],\n",
       "  'formatted_address': '대한민국 서울특별시 금천구',\n",
       "  'geometry': {'bounds': {'northeast': {'lat': 37.4869771, 'lng': 126.9311661},\n",
       "    'southwest': {'lat': 37.4330022, 'lng': 126.8713669}},\n",
       "   'location': {'lat': 37.4518527, 'lng': 126.9020358},\n",
       "   'location_type': 'APPROXIMATE',\n",
       "   'viewport': {'northeast': {'lat': 37.4869771, 'lng': 126.9311661},\n",
       "    'southwest': {'lat': 37.4330022, 'lng': 126.8713669}}},\n",
       "  'place_id': 'ChIJn9ijFcZhezURxZZOw-mGik4',\n",
       "  'types': ['political', 'sublocality', 'sublocality_level_1']},\n",
       " {'address_components': [{'long_name': '동작구',\n",
       "    'short_name': '동작구',\n",
       "    'types': ['political', 'sublocality', 'sublocality_level_1']},\n",
       "   {'long_name': '서울특별시',\n",
       "    'short_name': '서울특별시',\n",
       "    'types': ['administrative_area_level_1', 'political']},\n",
       "   {'long_name': '대한민국',\n",
       "    'short_name': 'KR',\n",
       "    'types': ['country', 'political']}],\n",
       "  'formatted_address': '대한민국 서울특별시 동작구',\n",
       "  'geometry': {'bounds': {'northeast': {'lat': 37.5188231, 'lng': 126.985609},\n",
       "    'southwest': {'lat': 37.4754009, 'lng': 126.9031469}},\n",
       "   'location': {'lat': 37.512402, 'lng': 126.9392525},\n",
       "   'location_type': 'APPROXIMATE',\n",
       "   'viewport': {'northeast': {'lat': 37.5188231, 'lng': 126.985609},\n",
       "    'southwest': {'lat': 37.4754009, 'lng': 126.9031469}}},\n",
       "  'place_id': 'ChIJgYYqF3iffDURmGQzSoStNBU',\n",
       "  'types': ['political', 'sublocality', 'sublocality_level_1']},\n",
       " {'address_components': [{'long_name': '#1',\n",
       "    'short_name': '#1',\n",
       "    'types': ['subpremise']},\n",
       "   {'long_name': '1350', 'short_name': '1350', 'types': ['street_number']},\n",
       "   {'long_name': 'Spring Street Northwest',\n",
       "    'short_name': 'Spring St NW',\n",
       "    'types': ['route']},\n",
       "   {'long_name': 'Midtown Atlanta',\n",
       "    'short_name': 'Midtown Atlanta',\n",
       "    'types': ['neighborhood', 'political']},\n",
       "   {'long_name': 'Atlanta',\n",
       "    'short_name': 'Atlanta',\n",
       "    'types': ['locality', 'political']},\n",
       "   {'long_name': 'Fulton County',\n",
       "    'short_name': 'Fulton County',\n",
       "    'types': ['administrative_area_level_2', 'political']},\n",
       "   {'long_name': 'Georgia',\n",
       "    'short_name': 'GA',\n",
       "    'types': ['administrative_area_level_1', 'political']},\n",
       "   {'long_name': '미국', 'short_name': 'US', 'types': ['country', 'political']},\n",
       "   {'long_name': '30309', 'short_name': '30309', 'types': ['postal_code']},\n",
       "   {'long_name': '2860',\n",
       "    'short_name': '2860',\n",
       "    'types': ['postal_code_suffix']}],\n",
       "  'formatted_address': '1350 Spring St NW #1, Atlanta, GA 30309 미국',\n",
       "  'geometry': {'location': {'lat': 33.791638, 'lng': -84.389488},\n",
       "   'location_type': 'ROOFTOP',\n",
       "   'viewport': {'northeast': {'lat': 33.7929869802915,\n",
       "     'lng': -84.3881390197085},\n",
       "    'southwest': {'lat': 33.7902890197085, 'lng': -84.39083698029151}}},\n",
       "  'place_id': 'ChIJz4_nc1oE9YgRxihstPqFSoM',\n",
       "  'types': ['bar',\n",
       "   'establishment',\n",
       "   'food',\n",
       "   'point_of_interest',\n",
       "   'restaurant']}]"
      ]
     },
     "execution_count": 117,
     "metadata": {},
     "output_type": "execute_result"
    }
   ],
   "source": [
    "[li[i][0] for i in range(0, len(df_address_join.gu.unique()))]"
   ]
  },
  {
   "cell_type": "code",
   "execution_count": 145,
   "metadata": {
    "ExecuteTime": {
     "end_time": "2021-06-17T05:46:00.517563Z",
     "start_time": "2021-06-17T05:46:00.498895Z"
    },
    "scrolled": true
   },
   "outputs": [
    {
     "ename": "TypeError",
     "evalue": "__init__() missing 1 required positional argument: 'geo_data'",
     "output_type": "error",
     "traceback": [
      "\u001b[0;31m---------------------------------------------------------------------------\u001b[0m",
      "\u001b[0;31mTypeError\u001b[0m                                 Traceback (most recent call last)",
      "\u001b[0;32m<ipython-input-145-0400c1845e0d>\u001b[0m in \u001b[0;36m<module>\u001b[0;34m\u001b[0m\n\u001b[0;32m----> 1\u001b[0;31m folium.Choropleth(\n\u001b[0m\u001b[1;32m      2\u001b[0m \u001b[0;31m#     geo_data=[li[i][0] for i in range(0, len(df_address_join.gu.unique()))],\u001b[0m\u001b[0;34m\u001b[0m\u001b[0;34m\u001b[0m\u001b[0;34m\u001b[0m\u001b[0m\n\u001b[1;32m      3\u001b[0m     \u001b[0mdata\u001b[0m\u001b[0;34m=\u001b[0m\u001b[0mdf_gu_agg\u001b[0m\u001b[0;34m,\u001b[0m\u001b[0;34m\u001b[0m\u001b[0;34m\u001b[0m\u001b[0m\n\u001b[1;32m      4\u001b[0m     \u001b[0mcolumns\u001b[0m\u001b[0;34m=\u001b[0m\u001b[0;34m(\u001b[0m\u001b[0;34m'gu'\u001b[0m\u001b[0;34m,\u001b[0m \u001b[0;34m'rent_date'\u001b[0m\u001b[0;34m)\u001b[0m\u001b[0;34m,\u001b[0m\u001b[0;34m\u001b[0m\u001b[0;34m\u001b[0m\u001b[0m\n\u001b[1;32m      5\u001b[0m     \u001b[0mkey_on\u001b[0m\u001b[0;34m=\u001b[0m\u001b[0;34m'address_components.long_name'\u001b[0m\u001b[0;34m,\u001b[0m\u001b[0;34m\u001b[0m\u001b[0;34m\u001b[0m\u001b[0m\n",
      "\u001b[0;31mTypeError\u001b[0m: __init__() missing 1 required positional argument: 'geo_data'"
     ]
    }
   ],
   "source": [
    "folium.Choropleth(\n",
    "#     geo_data=[li[i][0] for i in range(0, len(df_address_join.gu.unique()))],\n",
    "    data=df_gu_agg,\n",
    "    columns=('gu', 'rent_date'),\n",
    "    key_on='address_components.long_name',\n",
    "    fill_color='BuPu',\n",
    "    legend_name='월별 대여수',\n",
    ").add_to(m)"
   ]
  },
  {
   "cell_type": "code",
   "execution_count": null,
   "metadata": {},
   "outputs": [],
   "source": []
  },
  {
   "cell_type": "code",
   "execution_count": null,
   "metadata": {},
   "outputs": [],
   "source": []
  },
  {
   "cell_type": "code",
   "execution_count": null,
   "metadata": {},
   "outputs": [],
   "source": []
  },
  {
   "cell_type": "code",
   "execution_count": null,
   "metadata": {},
   "outputs": [],
   "source": []
  },
  {
   "cell_type": "code",
   "execution_count": null,
   "metadata": {},
   "outputs": [],
   "source": []
  },
  {
   "cell_type": "code",
   "execution_count": null,
   "metadata": {},
   "outputs": [],
   "source": []
  },
  {
   "cell_type": "code",
   "execution_count": null,
   "metadata": {},
   "outputs": [],
   "source": []
  },
  {
   "cell_type": "code",
   "execution_count": null,
   "metadata": {},
   "outputs": [],
   "source": []
  },
  {
   "cell_type": "code",
   "execution_count": null,
   "metadata": {},
   "outputs": [],
   "source": []
  }
 ],
 "metadata": {
  "kernelspec": {
   "display_name": "Python 3",
   "language": "python",
   "name": "python3"
  },
  "language_info": {
   "codemirror_mode": {
    "name": "ipython",
    "version": 3
   },
   "file_extension": ".py",
   "mimetype": "text/x-python",
   "name": "python",
   "nbconvert_exporter": "python",
   "pygments_lexer": "ipython3",
   "version": "3.8.5"
  },
  "toc": {
   "base_numbering": 1,
   "nav_menu": {},
   "number_sections": true,
   "sideBar": false,
   "skip_h1_title": false,
   "title_cell": "Table of Contents",
   "title_sidebar": "Contents",
   "toc_cell": false,
   "toc_position": {
    "height": "789px",
    "left": "21px",
    "top": "110px",
    "width": "384px"
   },
   "toc_section_display": true,
   "toc_window_display": false
  },
  "varInspector": {
   "cols": {
    "lenName": 16,
    "lenType": 16,
    "lenVar": 40
   },
   "kernels_config": {
    "python": {
     "delete_cmd_postfix": "",
     "delete_cmd_prefix": "del ",
     "library": "var_list.py",
     "varRefreshCmd": "print(var_dic_list())"
    },
    "r": {
     "delete_cmd_postfix": ") ",
     "delete_cmd_prefix": "rm(",
     "library": "var_list.r",
     "varRefreshCmd": "cat(var_dic_list()) "
    }
   },
   "position": {
    "height": "318px",
    "left": "1553px",
    "right": "20px",
    "top": "120px",
    "width": "355px"
   },
   "types_to_exclude": [
    "module",
    "function",
    "builtin_function_or_method",
    "instance",
    "_Feature"
   ],
   "window_display": true
  }
 },
 "nbformat": 4,
 "nbformat_minor": 4
}

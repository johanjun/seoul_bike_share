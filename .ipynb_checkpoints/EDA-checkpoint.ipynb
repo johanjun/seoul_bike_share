{
 "cells": [
  {
   "cell_type": "markdown",
   "metadata": {},
   "source": [
    "# DB Connection"
   ]
  },
  {
   "cell_type": "code",
   "execution_count": 32,
   "metadata": {
    "ExecuteTime": {
     "end_time": "2021-06-07T23:44:22.892143Z",
     "start_time": "2021-06-07T23:44:22.868278Z"
    }
   },
   "outputs": [],
   "source": [
    "import pymysql\n",
    "import pickle\n",
    "import pandas as pd\n",
    "import missingno as msno\n",
    "import matplotlib.pyplot as plt\n",
    "import seaborn as sns"
   ]
  },
  {
   "cell_type": "code",
   "execution_count": 1,
   "metadata": {
    "ExecuteTime": {
     "end_time": "2021-06-07T23:08:56.197755Z",
     "start_time": "2021-06-07T23:08:56.186751Z"
    }
   },
   "outputs": [],
   "source": [
    "pw_path = '/Users/johanjun/🔐/'"
   ]
  },
  {
   "cell_type": "code",
   "execution_count": 3,
   "metadata": {
    "ExecuteTime": {
     "end_time": "2021-06-07T23:09:58.948254Z",
     "start_time": "2021-06-07T23:09:58.943308Z"
    }
   },
   "outputs": [],
   "source": [
    "with open(str(pw_path)+'seoul_bike_sharing.pkl', 'rb') as f:\n",
    "    info = pickle.load(f)"
   ]
  },
  {
   "cell_type": "code",
   "execution_count": 14,
   "metadata": {
    "ExecuteTime": {
     "end_time": "2021-06-07T23:26:09.895864Z",
     "start_time": "2021-06-07T23:26:09.716552Z"
    }
   },
   "outputs": [],
   "source": [
    "db = pymysql.connect(\n",
    "    user=info['ID'], \n",
    "    password=info['PW'], \n",
    "    host=info['Host'], \n",
    "    database=info['DB'],\n",
    "    port=info['Port'],\n",
    "    charset='utf8', ssl={\"fake_flag_to_enable_tls\":True}\n",
    ")"
   ]
  },
  {
   "cell_type": "code",
   "execution_count": 16,
   "metadata": {
    "ExecuteTime": {
     "end_time": "2021-06-07T23:26:35.137566Z",
     "start_time": "2021-06-07T23:26:35.133430Z"
    }
   },
   "outputs": [],
   "source": [
    "cursor = db.cursor(pymysql.cursors.DictCursor)"
   ]
  },
  {
   "cell_type": "code",
   "execution_count": 20,
   "metadata": {
    "ExecuteTime": {
     "end_time": "2021-06-07T23:28:07.370750Z",
     "start_time": "2021-06-07T23:27:42.619547Z"
    }
   },
   "outputs": [],
   "source": [
    "sql = \"SELECT * FROM `rentinfo_hour`\"\n",
    "cursor.execute(sql)\n",
    "result = cursor.fetchall()"
   ]
  },
  {
   "cell_type": "code",
   "execution_count": 23,
   "metadata": {
    "ExecuteTime": {
     "end_time": "2021-06-07T23:28:56.600634Z",
     "start_time": "2021-06-07T23:28:56.593883Z"
    }
   },
   "outputs": [
    {
     "data": {
      "text/plain": [
       "718857"
      ]
     },
     "execution_count": 23,
     "metadata": {},
     "output_type": "execute_result"
    }
   ],
   "source": [
    "len(result)"
   ]
  },
  {
   "cell_type": "code",
   "execution_count": 24,
   "metadata": {
    "ExecuteTime": {
     "end_time": "2021-06-07T23:29:20.336842Z",
     "start_time": "2021-06-07T23:29:20.330430Z"
    }
   },
   "outputs": [
    {
     "data": {
      "text/plain": [
       "{'rent_date': datetime.date(2021, 1, 1),\n",
       " 'rent_hour': 0,\n",
       " 'station_no': 1347,\n",
       " 'station_name': '1347. 길음래미안아파트817동 상가 앞',\n",
       " 'rent_type': '정기권',\n",
       " 'sex': '',\n",
       " 'age_type': '~10대',\n",
       " 'rent_count': 2,\n",
       " 'momentum': 28.9,\n",
       " 'green': 0.23,\n",
       " 'distance': 992.78,\n",
       " 'use_hour': 13}"
      ]
     },
     "execution_count": 24,
     "metadata": {},
     "output_type": "execute_result"
    }
   ],
   "source": [
    "result[0]"
   ]
  },
  {
   "cell_type": "code",
   "execution_count": 138,
   "metadata": {
    "ExecuteTime": {
     "end_time": "2021-06-08T00:56:04.170425Z",
     "start_time": "2021-06-08T00:56:02.128781Z"
    }
   },
   "outputs": [],
   "source": [
    "df = pd.DataFrame(result)"
   ]
  },
  {
   "cell_type": "code",
   "execution_count": 27,
   "metadata": {
    "ExecuteTime": {
     "end_time": "2021-06-07T23:30:01.827614Z",
     "start_time": "2021-06-07T23:30:01.812844Z"
    }
   },
   "outputs": [
    {
     "data": {
      "text/html": [
       "<div>\n",
       "<style scoped>\n",
       "    .dataframe tbody tr th:only-of-type {\n",
       "        vertical-align: middle;\n",
       "    }\n",
       "\n",
       "    .dataframe tbody tr th {\n",
       "        vertical-align: top;\n",
       "    }\n",
       "\n",
       "    .dataframe thead th {\n",
       "        text-align: right;\n",
       "    }\n",
       "</style>\n",
       "<table border=\"1\" class=\"dataframe\">\n",
       "  <thead>\n",
       "    <tr style=\"text-align: right;\">\n",
       "      <th></th>\n",
       "      <th>rent_date</th>\n",
       "      <th>rent_hour</th>\n",
       "      <th>station_no</th>\n",
       "      <th>station_name</th>\n",
       "      <th>rent_type</th>\n",
       "      <th>sex</th>\n",
       "      <th>age_type</th>\n",
       "      <th>rent_count</th>\n",
       "      <th>momentum</th>\n",
       "      <th>green</th>\n",
       "      <th>distance</th>\n",
       "      <th>use_hour</th>\n",
       "    </tr>\n",
       "  </thead>\n",
       "  <tbody>\n",
       "    <tr>\n",
       "      <th>0</th>\n",
       "      <td>2021-01-01</td>\n",
       "      <td>0</td>\n",
       "      <td>1347</td>\n",
       "      <td>1347. 길음래미안아파트817동 상가 앞</td>\n",
       "      <td>정기권</td>\n",
       "      <td></td>\n",
       "      <td>~10대</td>\n",
       "      <td>2</td>\n",
       "      <td>28.90</td>\n",
       "      <td>0.23</td>\n",
       "      <td>992.78</td>\n",
       "      <td>13</td>\n",
       "    </tr>\n",
       "    <tr>\n",
       "      <th>1</th>\n",
       "      <td>2021-01-01</td>\n",
       "      <td>0</td>\n",
       "      <td>1349</td>\n",
       "      <td>1349. 월계2교 버스정류장 앞</td>\n",
       "      <td>정기권</td>\n",
       "      <td></td>\n",
       "      <td>~10대</td>\n",
       "      <td>1</td>\n",
       "      <td>34.38</td>\n",
       "      <td>0.26</td>\n",
       "      <td>1127.50</td>\n",
       "      <td>10</td>\n",
       "    </tr>\n",
       "    <tr>\n",
       "      <th>2</th>\n",
       "      <td>2021-01-01</td>\n",
       "      <td>0</td>\n",
       "      <td>1168</td>\n",
       "      <td>1168. 마곡엠밸리10단지 앞</td>\n",
       "      <td>정기권</td>\n",
       "      <td></td>\n",
       "      <td>~10대</td>\n",
       "      <td>1</td>\n",
       "      <td>0.00</td>\n",
       "      <td>0.00</td>\n",
       "      <td>0.00</td>\n",
       "      <td>7</td>\n",
       "    </tr>\n",
       "    <tr>\n",
       "      <th>3</th>\n",
       "      <td>2021-01-01</td>\n",
       "      <td>0</td>\n",
       "      <td>2619</td>\n",
       "      <td>2619. 석촌고분역 4번출구</td>\n",
       "      <td>정기권</td>\n",
       "      <td></td>\n",
       "      <td>~10대</td>\n",
       "      <td>1</td>\n",
       "      <td>38.75</td>\n",
       "      <td>0.38</td>\n",
       "      <td>1658.34</td>\n",
       "      <td>14</td>\n",
       "    </tr>\n",
       "    <tr>\n",
       "      <th>4</th>\n",
       "      <td>2021-01-01</td>\n",
       "      <td>0</td>\n",
       "      <td>536</td>\n",
       "      <td>536. 행당역 2번출구 앞</td>\n",
       "      <td>정기권</td>\n",
       "      <td></td>\n",
       "      <td>~10대</td>\n",
       "      <td>1</td>\n",
       "      <td>12.96</td>\n",
       "      <td>0.17</td>\n",
       "      <td>743.88</td>\n",
       "      <td>5</td>\n",
       "    </tr>\n",
       "  </tbody>\n",
       "</table>\n",
       "</div>"
      ],
      "text/plain": [
       "    rent_date  rent_hour  station_no             station_name rent_type sex  \\\n",
       "0  2021-01-01          0        1347  1347. 길음래미안아파트817동 상가 앞       정기권       \n",
       "1  2021-01-01          0        1349       1349. 월계2교 버스정류장 앞       정기권       \n",
       "2  2021-01-01          0        1168        1168. 마곡엠밸리10단지 앞       정기권       \n",
       "3  2021-01-01          0        2619         2619. 석촌고분역 4번출구       정기권       \n",
       "4  2021-01-01          0         536          536. 행당역 2번출구 앞       정기권       \n",
       "\n",
       "  age_type  rent_count  momentum  green  distance  use_hour  \n",
       "0     ~10대           2     28.90   0.23    992.78        13  \n",
       "1     ~10대           1     34.38   0.26   1127.50        10  \n",
       "2     ~10대           1      0.00   0.00      0.00         7  \n",
       "3     ~10대           1     38.75   0.38   1658.34        14  \n",
       "4     ~10대           1     12.96   0.17    743.88         5  "
      ]
     },
     "execution_count": 27,
     "metadata": {},
     "output_type": "execute_result"
    }
   ],
   "source": [
    "df.head()"
   ]
  },
  {
   "cell_type": "code",
   "execution_count": 31,
   "metadata": {
    "ExecuteTime": {
     "end_time": "2021-06-07T23:39:50.570748Z",
     "start_time": "2021-06-07T23:39:50.564375Z"
    }
   },
   "outputs": [
    {
     "data": {
      "text/plain": [
       "(718857, 12)"
      ]
     },
     "execution_count": 31,
     "metadata": {},
     "output_type": "execute_result"
    }
   ],
   "source": [
    "df.shape"
   ]
  },
  {
   "cell_type": "markdown",
   "metadata": {},
   "source": [
    "# EDA"
   ]
  },
  {
   "cell_type": "code",
   "execution_count": 30,
   "metadata": {
    "ExecuteTime": {
     "end_time": "2021-06-07T23:36:27.970117Z",
     "start_time": "2021-06-07T23:36:27.444981Z"
    }
   },
   "outputs": [
    {
     "name": "stdout",
     "output_type": "stream",
     "text": [
      "<class 'pandas.core.frame.DataFrame'>\n",
      "RangeIndex: 718857 entries, 0 to 718856\n",
      "Data columns (total 12 columns):\n",
      " #   Column        Non-Null Count   Dtype  \n",
      "---  ------        --------------   -----  \n",
      " 0   rent_date     718857 non-null  object \n",
      " 1   rent_hour     718857 non-null  int64  \n",
      " 2   station_no    718857 non-null  int64  \n",
      " 3   station_name  718857 non-null  object \n",
      " 4   rent_type     718857 non-null  object \n",
      " 5   sex           718857 non-null  object \n",
      " 6   age_type      718857 non-null  object \n",
      " 7   rent_count    718857 non-null  int64  \n",
      " 8   momentum      718857 non-null  float64\n",
      " 9   green         718857 non-null  float64\n",
      " 10  distance      718857 non-null  float64\n",
      " 11  use_hour      718857 non-null  int64  \n",
      "dtypes: float64(3), int64(4), object(5)\n",
      "memory usage: 65.8+ MB\n"
     ]
    }
   ],
   "source": [
    "df.info()"
   ]
  },
  {
   "cell_type": "markdown",
   "metadata": {},
   "source": [
    "## metadata"
   ]
  },
  {
   "cell_type": "markdown",
   "metadata": {},
   "source": [
    "1. rent_date : 대여 일자\n",
    "2. rent_hour : 대여 시간\n",
    "3. station_no : 대여소 번호(상세 데이터 필요)\n",
    "4. station_name : 대여소명(지리 데이터로 변환?)\n",
    "5. rent_type : 대여구분코드 (일일권, 정기권, 단체권, 일일권비회원)\n",
    "6. sex : 성별(F, M - 가입회원 기준이라면 실제 성별과 일치하지 않을 수 있음)\n",
    "7. age_type : 연령대코드 (20대 등)\n",
    "8. rent_count : 이용건수 (같은 대여소에 동일한 성별, 연령대가 2명이상이 빌리면 합산되어 표기됨)\n",
    "9. momentum : 운동량 (단위 알 수 없음)\n",
    "10. green : 탄소량 (단위 알 수 없음)\n",
    "11. distance : 이동거리 (m)\n",
    "12. use_hour : 사용시간 (단위 시)"
   ]
  },
  {
   "cell_type": "markdown",
   "metadata": {},
   "source": [
    "## missing data"
   ]
  },
  {
   "cell_type": "markdown",
   "metadata": {},
   "source": [
    "- 결측치 없음"
   ]
  },
  {
   "cell_type": "code",
   "execution_count": 29,
   "metadata": {
    "ExecuteTime": {
     "end_time": "2021-06-07T23:35:14.787567Z",
     "start_time": "2021-06-07T23:35:11.197364Z"
    },
    "scrolled": false
   },
   "outputs": [
    {
     "data": {
      "text/plain": [
       "<AxesSubplot:>"
      ]
     },
     "execution_count": 29,
     "metadata": {},
     "output_type": "execute_result"
    },
    {
     "data": {
      "image/png": "[encoded data removed]",
      "text/plain": [
       "<Figure size 1800x720 with 2 Axes>"
      ]
     },
     "metadata": {
      "needs_background": "light"
     },
     "output_type": "display_data"
    }
   ],
   "source": [
    "msno.matrix(df=df)"
   ]
  },
  {
   "cell_type": "markdown",
   "metadata": {},
   "source": [
    "## data explore"
   ]
  },
  {
   "cell_type": "markdown",
   "metadata": {},
   "source": [
    "### rent_date"
   ]
  },
  {
   "cell_type": "code",
   "execution_count": 169,
   "metadata": {
    "ExecuteTime": {
     "end_time": "2021-06-08T01:05:59.043040Z",
     "start_time": "2021-06-08T01:05:58.618068Z"
    }
   },
   "outputs": [
    {
     "name": "stdout",
     "output_type": "stream",
     "text": [
      "<class 'pandas.core.frame.DataFrame'>\n",
      "RangeIndex: 718857 entries, 0 to 718856\n",
      "Data columns (total 12 columns):\n",
      " #   Column        Non-Null Count   Dtype         \n",
      "---  ------        --------------   -----         \n",
      " 0   rent_date     718857 non-null  datetime64[ns]\n",
      " 1   rent_hour     718857 non-null  int64         \n",
      " 2   station_no    718857 non-null  int64         \n",
      " 3   station_name  718857 non-null  object        \n",
      " 4   rent_type     718857 non-null  object        \n",
      " 5   sex           718857 non-null  object        \n",
      " 6   age_type      718857 non-null  object        \n",
      " 7   rent_count    718857 non-null  int64         \n",
      " 8   momentum      718857 non-null  float64       \n",
      " 9   green         718857 non-null  float64       \n",
      " 10  distance      718857 non-null  float64       \n",
      " 11  use_hour      718857 non-null  int64         \n",
      "dtypes: datetime64[ns](1), float64(3), int64(4), object(4)\n",
      "memory usage: 65.8+ MB\n"
     ]
    }
   ],
   "source": [
    "df.rent_date =pd.to_datetime(df.rent_date)\n",
    "df.info()"
   ]
  },
  {
   "cell_type": "code",
   "execution_count": 181,
   "metadata": {
    "ExecuteTime": {
     "end_time": "2021-06-08T01:30:14.871824Z",
     "start_time": "2021-06-08T01:30:14.533722Z"
    },
    "scrolled": false
   },
   "outputs": [
    {
     "data": {
      "image/png": "[encoded data removed]",
      "text/plain": [
       "<Figure size 864x576 with 1 Axes>"
      ]
     },
     "metadata": {
      "needs_background": "light"
     },
     "output_type": "display_data"
    }
   ],
   "source": [
    "plt.figure(figsize=(12,8))\n",
    "sns.barplot(x=df.groupby('rent_date')['rent_count'].sum().index.day, y=df.groupby('rent_date')['rent_count'].sum())\n",
    "plt.show()"
   ]
  },
  {
   "cell_type": "markdown",
   "metadata": {},
   "source": [
    "### rent_hour"
   ]
  },
  {
   "cell_type": "code",
   "execution_count": 183,
   "metadata": {
    "ExecuteTime": {
     "end_time": "2021-06-08T01:31:13.724007Z",
     "start_time": "2021-06-08T01:31:13.697159Z"
    }
   },
   "outputs": [
    {
     "data": {
      "text/plain": [
       "rent_hour\n",
       "0     11906\n",
       "1      9495\n",
       "2      6553\n",
       "3      4741\n",
       "4      4072\n",
       "5      5569\n",
       "6     10883\n",
       "7     26247\n",
       "8     49120\n",
       "9     28765\n",
       "10    24589\n",
       "11    33049\n",
       "12    41142\n",
       "13    46337\n",
       "14    52792\n",
       "15    57265\n",
       "16    59085\n",
       "17    67065\n",
       "18    74547\n",
       "19    49099\n",
       "20    41897\n",
       "21    40793\n",
       "22    22914\n",
       "23    14880\n",
       "Name: rent_count, dtype: int64"
      ]
     },
     "execution_count": 183,
     "metadata": {},
     "output_type": "execute_result"
    }
   ],
   "source": [
    "df.groupby('rent_hour')['rent_count'].sum()"
   ]
  },
  {
   "cell_type": "code",
   "execution_count": 185,
   "metadata": {
    "ExecuteTime": {
     "end_time": "2021-06-08T01:31:27.806884Z",
     "start_time": "2021-06-08T01:31:27.513241Z"
    }
   },
   "outputs": [
    {
     "data": {
      "image/png": "[encoded data removed]",
      "text/plain": [
       "<Figure size 864x576 with 1 Axes>"
      ]
     },
     "metadata": {
      "needs_background": "light"
     },
     "output_type": "display_data"
    }
   ],
   "source": [
    "plt.figure(figsize=(12,8))\n",
    "sns.barplot(x=df.groupby('rent_hour')['rent_count'].sum().index, y=df.groupby('rent_hour')['rent_count'].sum())\n",
    "plt.show()"
   ]
  },
  {
   "cell_type": "markdown",
   "metadata": {},
   "source": [
    "### station_no"
   ]
  },
  {
   "cell_type": "code",
   "execution_count": 188,
   "metadata": {
    "ExecuteTime": {
     "end_time": "2021-06-08T01:32:49.642307Z",
     "start_time": "2021-06-08T01:32:47.637247Z"
    }
   },
   "outputs": [
    {
     "data": {
      "image/png": "[encoded data removed]",
      "text/plain": [
       "<Figure size 864x576 with 1 Axes>"
      ]
     },
     "metadata": {
      "needs_background": "light"
     },
     "output_type": "display_data"
    }
   ],
   "source": [
    "plt.figure(figsize=(12,8))\n",
    "sns.distplot(df.station_no)\n",
    "plt.show()"
   ]
  },
  {
   "cell_type": "code",
   "execution_count": 190,
   "metadata": {
    "ExecuteTime": {
     "end_time": "2021-06-08T01:33:38.425777Z",
     "start_time": "2021-06-08T01:33:38.386025Z"
    }
   },
   "outputs": [
    {
     "data": {
      "text/plain": [
       "count    718857.000000\n",
       "mean       1447.329716\n",
       "std        1015.266910\n",
       "min           3.000000\n",
       "25%         600.000000\n",
       "50%        1230.000000\n",
       "75%        2113.000000\n",
       "max        9999.000000\n",
       "Name: station_no, dtype: float64"
      ]
     },
     "execution_count": 190,
     "metadata": {},
     "output_type": "execute_result"
    }
   ],
   "source": [
    "df.station_no.describe()"
   ]
  },
  {
   "cell_type": "code",
   "execution_count": 192,
   "metadata": {
    "ExecuteTime": {
     "end_time": "2021-06-08T01:34:11.661986Z",
     "start_time": "2021-06-08T01:34:11.616055Z"
    }
   },
   "outputs": [
    {
     "data": {
      "text/html": [
       "<div>\n",
       "<style scoped>\n",
       "    .dataframe tbody tr th:only-of-type {\n",
       "        vertical-align: middle;\n",
       "    }\n",
       "\n",
       "    .dataframe tbody tr th {\n",
       "        vertical-align: top;\n",
       "    }\n",
       "\n",
       "    .dataframe thead th {\n",
       "        text-align: right;\n",
       "    }\n",
       "</style>\n",
       "<table border=\"1\" class=\"dataframe\">\n",
       "  <thead>\n",
       "    <tr style=\"text-align: right;\">\n",
       "      <th></th>\n",
       "      <th>rent_date</th>\n",
       "      <th>rent_hour</th>\n",
       "      <th>station_no</th>\n",
       "      <th>station_name</th>\n",
       "      <th>rent_type</th>\n",
       "      <th>sex</th>\n",
       "      <th>age_type</th>\n",
       "      <th>rent_count</th>\n",
       "      <th>momentum</th>\n",
       "      <th>green</th>\n",
       "      <th>distance</th>\n",
       "      <th>use_hour</th>\n",
       "    </tr>\n",
       "  </thead>\n",
       "  <tbody>\n",
       "    <tr>\n",
       "      <th>4313</th>\n",
       "      <td>2021-01-01</td>\n",
       "      <td>11</td>\n",
       "      <td>9999</td>\n",
       "      <td>상담센터</td>\n",
       "      <td>정기권</td>\n",
       "      <td>M</td>\n",
       "      <td>40대</td>\n",
       "      <td>1</td>\n",
       "      <td>2.69</td>\n",
       "      <td>0.02</td>\n",
       "      <td>88.24</td>\n",
       "      <td>4</td>\n",
       "    </tr>\n",
       "    <tr>\n",
       "      <th>81304</th>\n",
       "      <td>2021-01-04</td>\n",
       "      <td>17</td>\n",
       "      <td>9997</td>\n",
       "      <td>9997.강남센터</td>\n",
       "      <td>정기권</td>\n",
       "      <td>M</td>\n",
       "      <td>40대</td>\n",
       "      <td>1</td>\n",
       "      <td>0.00</td>\n",
       "      <td>0.00</td>\n",
       "      <td>0.00</td>\n",
       "      <td>11</td>\n",
       "    </tr>\n",
       "    <tr>\n",
       "      <th>110109</th>\n",
       "      <td>2021-01-05</td>\n",
       "      <td>17</td>\n",
       "      <td>9997</td>\n",
       "      <td>9997.강남센터</td>\n",
       "      <td>정기권</td>\n",
       "      <td>M</td>\n",
       "      <td>40대</td>\n",
       "      <td>1</td>\n",
       "      <td>0.00</td>\n",
       "      <td>0.00</td>\n",
       "      <td>0.00</td>\n",
       "      <td>20</td>\n",
       "    </tr>\n",
       "    <tr>\n",
       "      <th>182997</th>\n",
       "      <td>2021-01-11</td>\n",
       "      <td>17</td>\n",
       "      <td>9997</td>\n",
       "      <td>9997.강남센터</td>\n",
       "      <td>정기권</td>\n",
       "      <td>M</td>\n",
       "      <td>40대</td>\n",
       "      <td>1</td>\n",
       "      <td>0.00</td>\n",
       "      <td>0.00</td>\n",
       "      <td>0.00</td>\n",
       "      <td>25</td>\n",
       "    </tr>\n",
       "    <tr>\n",
       "      <th>196318</th>\n",
       "      <td>2021-01-12</td>\n",
       "      <td>11</td>\n",
       "      <td>9997</td>\n",
       "      <td>9997.강남센터</td>\n",
       "      <td>정기권</td>\n",
       "      <td>M</td>\n",
       "      <td>50대</td>\n",
       "      <td>1</td>\n",
       "      <td>0.00</td>\n",
       "      <td>0.00</td>\n",
       "      <td>0.00</td>\n",
       "      <td>52</td>\n",
       "    </tr>\n",
       "    <tr>\n",
       "      <th>202826</th>\n",
       "      <td>2021-01-13</td>\n",
       "      <td>8</td>\n",
       "      <td>9980</td>\n",
       "      <td>9980. 에이텍</td>\n",
       "      <td>정기권</td>\n",
       "      <td>F</td>\n",
       "      <td>40대</td>\n",
       "      <td>1</td>\n",
       "      <td>36.04</td>\n",
       "      <td>0.32</td>\n",
       "      <td>1400.00</td>\n",
       "      <td>12</td>\n",
       "    </tr>\n",
       "    <tr>\n",
       "      <th>205584</th>\n",
       "      <td>2021-01-13</td>\n",
       "      <td>13</td>\n",
       "      <td>9999</td>\n",
       "      <td>상담센터</td>\n",
       "      <td>정기권</td>\n",
       "      <td></td>\n",
       "      <td>40대</td>\n",
       "      <td>1</td>\n",
       "      <td>35.86</td>\n",
       "      <td>0.32</td>\n",
       "      <td>1392.98</td>\n",
       "      <td>8</td>\n",
       "    </tr>\n",
       "    <tr>\n",
       "      <th>209811</th>\n",
       "      <td>2021-01-13</td>\n",
       "      <td>16</td>\n",
       "      <td>9997</td>\n",
       "      <td>9997.강남센터</td>\n",
       "      <td>정기권</td>\n",
       "      <td>M</td>\n",
       "      <td>40대</td>\n",
       "      <td>1</td>\n",
       "      <td>0.00</td>\n",
       "      <td>0.00</td>\n",
       "      <td>0.00</td>\n",
       "      <td>66</td>\n",
       "    </tr>\n",
       "    <tr>\n",
       "      <th>238747</th>\n",
       "      <td>2021-01-14</td>\n",
       "      <td>17</td>\n",
       "      <td>9997</td>\n",
       "      <td>9997.강남센터</td>\n",
       "      <td>정기권</td>\n",
       "      <td>M</td>\n",
       "      <td>40대</td>\n",
       "      <td>1</td>\n",
       "      <td>0.00</td>\n",
       "      <td>0.00</td>\n",
       "      <td>0.00</td>\n",
       "      <td>22</td>\n",
       "    </tr>\n",
       "    <tr>\n",
       "      <th>263106</th>\n",
       "      <td>2021-01-15</td>\n",
       "      <td>14</td>\n",
       "      <td>9997</td>\n",
       "      <td>9997.강남센터</td>\n",
       "      <td>정기권</td>\n",
       "      <td>M</td>\n",
       "      <td>40대</td>\n",
       "      <td>1</td>\n",
       "      <td>0.00</td>\n",
       "      <td>0.00</td>\n",
       "      <td>0.00</td>\n",
       "      <td>3</td>\n",
       "    </tr>\n",
       "    <tr>\n",
       "      <th>268659</th>\n",
       "      <td>2021-01-15</td>\n",
       "      <td>17</td>\n",
       "      <td>9997</td>\n",
       "      <td>9997.강남센터</td>\n",
       "      <td>정기권</td>\n",
       "      <td>M</td>\n",
       "      <td>40대</td>\n",
       "      <td>1</td>\n",
       "      <td>0.00</td>\n",
       "      <td>0.00</td>\n",
       "      <td>0.00</td>\n",
       "      <td>41</td>\n",
       "    </tr>\n",
       "    <tr>\n",
       "      <th>327063</th>\n",
       "      <td>2021-01-18</td>\n",
       "      <td>17</td>\n",
       "      <td>9997</td>\n",
       "      <td>9997.강남센터</td>\n",
       "      <td>정기권</td>\n",
       "      <td>M</td>\n",
       "      <td>40대</td>\n",
       "      <td>1</td>\n",
       "      <td>0.00</td>\n",
       "      <td>0.00</td>\n",
       "      <td>0.00</td>\n",
       "      <td>26</td>\n",
       "    </tr>\n",
       "    <tr>\n",
       "      <th>357728</th>\n",
       "      <td>2021-01-19</td>\n",
       "      <td>23</td>\n",
       "      <td>9999</td>\n",
       "      <td>상담센터</td>\n",
       "      <td>정기권</td>\n",
       "      <td></td>\n",
       "      <td>30대</td>\n",
       "      <td>1</td>\n",
       "      <td>0.00</td>\n",
       "      <td>0.00</td>\n",
       "      <td>0.00</td>\n",
       "      <td>1</td>\n",
       "    </tr>\n",
       "    <tr>\n",
       "      <th>367235</th>\n",
       "      <td>2021-01-20</td>\n",
       "      <td>11</td>\n",
       "      <td>9999</td>\n",
       "      <td>상담센터</td>\n",
       "      <td>정기권</td>\n",
       "      <td>M</td>\n",
       "      <td>40대</td>\n",
       "      <td>1</td>\n",
       "      <td>54.61</td>\n",
       "      <td>0.40</td>\n",
       "      <td>1723.94</td>\n",
       "      <td>12</td>\n",
       "    </tr>\n",
       "    <tr>\n",
       "      <th>383090</th>\n",
       "      <td>2021-01-20</td>\n",
       "      <td>18</td>\n",
       "      <td>9997</td>\n",
       "      <td>9997.강남센터</td>\n",
       "      <td>정기권</td>\n",
       "      <td>M</td>\n",
       "      <td>40대</td>\n",
       "      <td>1</td>\n",
       "      <td>256.94</td>\n",
       "      <td>1.77</td>\n",
       "      <td>7633.30</td>\n",
       "      <td>61</td>\n",
       "    </tr>\n",
       "    <tr>\n",
       "      <th>408169</th>\n",
       "      <td>2021-01-22</td>\n",
       "      <td>16</td>\n",
       "      <td>9999</td>\n",
       "      <td>상담센터</td>\n",
       "      <td>정기권</td>\n",
       "      <td>M</td>\n",
       "      <td>40대</td>\n",
       "      <td>1</td>\n",
       "      <td>21.70</td>\n",
       "      <td>0.18</td>\n",
       "      <td>794.16</td>\n",
       "      <td>77</td>\n",
       "    </tr>\n",
       "    <tr>\n",
       "      <th>476883</th>\n",
       "      <td>2021-01-24</td>\n",
       "      <td>14</td>\n",
       "      <td>9999</td>\n",
       "      <td>상담센터</td>\n",
       "      <td>정기권</td>\n",
       "      <td>F</td>\n",
       "      <td>50대</td>\n",
       "      <td>1</td>\n",
       "      <td>246.57</td>\n",
       "      <td>3.01</td>\n",
       "      <td>12972.02</td>\n",
       "      <td>83</td>\n",
       "    </tr>\n",
       "    <tr>\n",
       "      <th>499874</th>\n",
       "      <td>2021-01-24</td>\n",
       "      <td>20</td>\n",
       "      <td>9999</td>\n",
       "      <td>상담센터</td>\n",
       "      <td>단체권</td>\n",
       "      <td>F</td>\n",
       "      <td>~10대</td>\n",
       "      <td>2</td>\n",
       "      <td>245.88</td>\n",
       "      <td>2.06</td>\n",
       "      <td>8870.00</td>\n",
       "      <td>85</td>\n",
       "    </tr>\n",
       "    <tr>\n",
       "      <th>518325</th>\n",
       "      <td>2021-01-25</td>\n",
       "      <td>12</td>\n",
       "      <td>9999</td>\n",
       "      <td>상담센터</td>\n",
       "      <td>일일권</td>\n",
       "      <td>F</td>\n",
       "      <td>20대</td>\n",
       "      <td>1</td>\n",
       "      <td>71.41</td>\n",
       "      <td>0.85</td>\n",
       "      <td>3680.00</td>\n",
       "      <td>25</td>\n",
       "    </tr>\n",
       "    <tr>\n",
       "      <th>593869</th>\n",
       "      <td>2021-01-27</td>\n",
       "      <td>14</td>\n",
       "      <td>9999</td>\n",
       "      <td>상담센터</td>\n",
       "      <td>일일권</td>\n",
       "      <td>F</td>\n",
       "      <td>~10대</td>\n",
       "      <td>1</td>\n",
       "      <td>63.61</td>\n",
       "      <td>0.57</td>\n",
       "      <td>2471.37</td>\n",
       "      <td>25</td>\n",
       "    </tr>\n",
       "    <tr>\n",
       "      <th>601789</th>\n",
       "      <td>2021-01-27</td>\n",
       "      <td>17</td>\n",
       "      <td>9997</td>\n",
       "      <td>9997.강남센터</td>\n",
       "      <td>정기권</td>\n",
       "      <td>M</td>\n",
       "      <td>40대</td>\n",
       "      <td>1</td>\n",
       "      <td>200.74</td>\n",
       "      <td>1.38</td>\n",
       "      <td>5963.71</td>\n",
       "      <td>99</td>\n",
       "    </tr>\n",
       "    <tr>\n",
       "      <th>630854</th>\n",
       "      <td>2021-01-28</td>\n",
       "      <td>17</td>\n",
       "      <td>9997</td>\n",
       "      <td>9997.강남센터</td>\n",
       "      <td>정기권</td>\n",
       "      <td>M</td>\n",
       "      <td>40대</td>\n",
       "      <td>1</td>\n",
       "      <td>107.77</td>\n",
       "      <td>0.74</td>\n",
       "      <td>3201.68</td>\n",
       "      <td>68</td>\n",
       "    </tr>\n",
       "    <tr>\n",
       "      <th>649548</th>\n",
       "      <td>2021-01-29</td>\n",
       "      <td>16</td>\n",
       "      <td>9997</td>\n",
       "      <td>9997.강남센터</td>\n",
       "      <td>정기권</td>\n",
       "      <td>M</td>\n",
       "      <td>40대</td>\n",
       "      <td>1</td>\n",
       "      <td>0.00</td>\n",
       "      <td>0.00</td>\n",
       "      <td>0.00</td>\n",
       "      <td>4</td>\n",
       "    </tr>\n",
       "    <tr>\n",
       "      <th>679325</th>\n",
       "      <td>2021-01-30</td>\n",
       "      <td>19</td>\n",
       "      <td>9999</td>\n",
       "      <td>상담센터</td>\n",
       "      <td>정기권</td>\n",
       "      <td></td>\n",
       "      <td>20대</td>\n",
       "      <td>1</td>\n",
       "      <td>0.00</td>\n",
       "      <td>0.00</td>\n",
       "      <td>0.00</td>\n",
       "      <td>4</td>\n",
       "    </tr>\n",
       "    <tr>\n",
       "      <th>699272</th>\n",
       "      <td>2021-01-31</td>\n",
       "      <td>14</td>\n",
       "      <td>9999</td>\n",
       "      <td>상담센터</td>\n",
       "      <td>단체권</td>\n",
       "      <td></td>\n",
       "      <td>40대</td>\n",
       "      <td>1</td>\n",
       "      <td>128.30</td>\n",
       "      <td>0.94</td>\n",
       "      <td>4050.00</td>\n",
       "      <td>67</td>\n",
       "    </tr>\n",
       "    <tr>\n",
       "      <th>702782</th>\n",
       "      <td>2021-01-31</td>\n",
       "      <td>15</td>\n",
       "      <td>9999</td>\n",
       "      <td>상담센터</td>\n",
       "      <td>단체권</td>\n",
       "      <td></td>\n",
       "      <td>40대</td>\n",
       "      <td>1</td>\n",
       "      <td>73.18</td>\n",
       "      <td>0.54</td>\n",
       "      <td>2310.00</td>\n",
       "      <td>16</td>\n",
       "    </tr>\n",
       "  </tbody>\n",
       "</table>\n",
       "</div>"
      ],
      "text/plain": [
       "        rent_date  rent_hour  station_no station_name rent_type sex age_type  \\\n",
       "4313   2021-01-01         11        9999         상담센터       정기권   M      40대   \n",
       "81304  2021-01-04         17        9997    9997.강남센터       정기권   M      40대   \n",
       "110109 2021-01-05         17        9997    9997.강남센터       정기권   M      40대   \n",
       "182997 2021-01-11         17        9997    9997.강남센터       정기권   M      40대   \n",
       "196318 2021-01-12         11        9997    9997.강남센터       정기권   M      50대   \n",
       "202826 2021-01-13          8        9980    9980. 에이텍       정기권   F      40대   \n",
       "205584 2021-01-13         13        9999         상담센터       정기권          40대   \n",
       "209811 2021-01-13         16        9997    9997.강남센터       정기권   M      40대   \n",
       "238747 2021-01-14         17        9997    9997.강남센터       정기권   M      40대   \n",
       "263106 2021-01-15         14        9997    9997.강남센터       정기권   M      40대   \n",
       "268659 2021-01-15         17        9997    9997.강남센터       정기권   M      40대   \n",
       "327063 2021-01-18         17        9997    9997.강남센터       정기권   M      40대   \n",
       "357728 2021-01-19         23        9999         상담센터       정기권          30대   \n",
       "367235 2021-01-20         11        9999         상담센터       정기권   M      40대   \n",
       "383090 2021-01-20         18        9997    9997.강남센터       정기권   M      40대   \n",
       "408169 2021-01-22         16        9999         상담센터       정기권   M      40대   \n",
       "476883 2021-01-24         14        9999         상담센터       정기권   F      50대   \n",
       "499874 2021-01-24         20        9999         상담센터       단체권   F     ~10대   \n",
       "518325 2021-01-25         12        9999         상담센터       일일권   F      20대   \n",
       "593869 2021-01-27         14        9999         상담센터       일일권   F     ~10대   \n",
       "601789 2021-01-27         17        9997    9997.강남센터       정기권   M      40대   \n",
       "630854 2021-01-28         17        9997    9997.강남센터       정기권   M      40대   \n",
       "649548 2021-01-29         16        9997    9997.강남센터       정기권   M      40대   \n",
       "679325 2021-01-30         19        9999         상담센터       정기권          20대   \n",
       "699272 2021-01-31         14        9999         상담센터       단체권          40대   \n",
       "702782 2021-01-31         15        9999         상담센터       단체권          40대   \n",
       "\n",
       "        rent_count  momentum  green  distance  use_hour  \n",
       "4313             1      2.69   0.02     88.24         4  \n",
       "81304            1      0.00   0.00      0.00        11  \n",
       "110109           1      0.00   0.00      0.00        20  \n",
       "182997           1      0.00   0.00      0.00        25  \n",
       "196318           1      0.00   0.00      0.00        52  \n",
       "202826           1     36.04   0.32   1400.00        12  \n",
       "205584           1     35.86   0.32   1392.98         8  \n",
       "209811           1      0.00   0.00      0.00        66  \n",
       "238747           1      0.00   0.00      0.00        22  \n",
       "263106           1      0.00   0.00      0.00         3  \n",
       "268659           1      0.00   0.00      0.00        41  \n",
       "327063           1      0.00   0.00      0.00        26  \n",
       "357728           1      0.00   0.00      0.00         1  \n",
       "367235           1     54.61   0.40   1723.94        12  \n",
       "383090           1    256.94   1.77   7633.30        61  \n",
       "408169           1     21.70   0.18    794.16        77  \n",
       "476883           1    246.57   3.01  12972.02        83  \n",
       "499874           2    245.88   2.06   8870.00        85  \n",
       "518325           1     71.41   0.85   3680.00        25  \n",
       "593869           1     63.61   0.57   2471.37        25  \n",
       "601789           1    200.74   1.38   5963.71        99  \n",
       "630854           1    107.77   0.74   3201.68        68  \n",
       "649548           1      0.00   0.00      0.00         4  \n",
       "679325           1      0.00   0.00      0.00         4  \n",
       "699272           1    128.30   0.94   4050.00        67  \n",
       "702782           1     73.18   0.54   2310.00        16  "
      ]
     },
     "execution_count": 192,
     "metadata": {},
     "output_type": "execute_result"
    }
   ],
   "source": [
    "df[df['station_no'] > 6000]"
   ]
  },
  {
   "cell_type": "markdown",
   "metadata": {},
   "source": [
    "- station_no 별로 지역특성 반영되어있는지 확인 필요"
   ]
  },
  {
   "cell_type": "markdown",
   "metadata": {},
   "source": [
    "### station_name"
   ]
  },
  {
   "cell_type": "code",
   "execution_count": 196,
   "metadata": {
    "ExecuteTime": {
     "end_time": "2021-06-08T02:20:33.712122Z",
     "start_time": "2021-06-08T02:20:33.595501Z"
    }
   },
   "outputs": [
    {
     "data": {
      "text/plain": [
       "2188"
      ]
     },
     "execution_count": 196,
     "metadata": {},
     "output_type": "execute_result"
    }
   ],
   "source": [
    "len(df.station_name.unique())"
   ]
  },
  {
   "cell_type": "code",
   "execution_count": 197,
   "metadata": {
    "ExecuteTime": {
     "end_time": "2021-06-08T02:20:47.766256Z",
     "start_time": "2021-06-08T02:20:47.758867Z"
    }
   },
   "outputs": [
    {
     "data": {
      "text/plain": [
       "0           1347. 길음래미안아파트817동 상가 앞\n",
       "1                1349. 월계2교 버스정류장 앞\n",
       "2                 1168. 마곡엠밸리10단지 앞\n",
       "3                  2619. 석촌고분역 4번출구\n",
       "4                   536. 행당역 2번출구 앞\n",
       "5                      192. 연서어린이공원\n",
       "6    1118. 증미역 3번출구뒤(등촌두산위브센티움오피스텔)\n",
       "7           1936. 개봉역 1번 출구 자전거보관서쪽\n",
       "8                1038. 강일 다솜 어린이 공원\n",
       "9                        1157. 강서구청\n",
       "Name: station_name, dtype: object"
      ]
     },
     "execution_count": 197,
     "metadata": {},
     "output_type": "execute_result"
    }
   ],
   "source": [
    "df.station_name[:10]"
   ]
  },
  {
   "cell_type": "code",
   "execution_count": 207,
   "metadata": {
    "ExecuteTime": {
     "end_time": "2021-06-08T02:24:42.528658Z",
     "start_time": "2021-06-08T02:24:42.522815Z"
    },
    "scrolled": true
   },
   "outputs": [
    {
     "name": "stdout",
     "output_type": "stream",
     "text": [
      "길음래미안아파트817동\n",
      "월계2교\n",
      "마곡엠밸리10단지\n",
      "석촌고분역\n",
      "행당역\n",
      "연서어린이공원\n",
      "증미역\n",
      "개봉역\n",
      "강일\n",
      "강서구청\n"
     ]
    }
   ],
   "source": [
    "for i in df.station_name[:10]:\n",
    "    print((i.split('.')[1]).split()[0])"
   ]
  },
  {
   "cell_type": "markdown",
   "metadata": {},
   "source": [
    "- 번호 뒤 첫 단어에서 지역적 특성을 추출할 수 있을 듯"
   ]
  },
  {
   "cell_type": "markdown",
   "metadata": {},
   "source": [
    "# preprocessing"
   ]
  },
  {
   "cell_type": "code",
   "execution_count": null,
   "metadata": {},
   "outputs": [],
   "source": []
  },
  {
   "cell_type": "code",
   "execution_count": null,
   "metadata": {},
   "outputs": [],
   "source": []
  },
  {
   "cell_type": "code",
   "execution_count": null,
   "metadata": {},
   "outputs": [],
   "source": []
  },
  {
   "cell_type": "code",
   "execution_count": null,
   "metadata": {},
   "outputs": [],
   "source": []
  },
  {
   "cell_type": "code",
   "execution_count": null,
   "metadata": {},
   "outputs": [],
   "source": []
  },
  {
   "cell_type": "code",
   "execution_count": null,
   "metadata": {},
   "outputs": [],
   "source": []
  },
  {
   "cell_type": "code",
   "execution_count": null,
   "metadata": {},
   "outputs": [],
   "source": []
  },
  {
   "cell_type": "code",
   "execution_count": null,
   "metadata": {},
   "outputs": [],
   "source": []
  },
  {
   "cell_type": "code",
   "execution_count": null,
   "metadata": {},
   "outputs": [],
   "source": []
  },
  {
   "cell_type": "code",
   "execution_count": null,
   "metadata": {},
   "outputs": [],
   "source": []
  },
  {
   "cell_type": "code",
   "execution_count": null,
   "metadata": {},
   "outputs": [],
   "source": []
  },
  {
   "cell_type": "code",
   "execution_count": null,
   "metadata": {},
   "outputs": [],
   "source": []
  },
  {
   "cell_type": "code",
   "execution_count": null,
   "metadata": {},
   "outputs": [],
   "source": []
  },
  {
   "cell_type": "code",
   "execution_count": null,
   "metadata": {},
   "outputs": [],
   "source": []
  }
 ],
 "metadata": {
  "kernelspec": {
   "display_name": "Python 3",
   "language": "python",
   "name": "python3"
  },
  "language_info": {
   "codemirror_mode": {
    "name": "ipython",
    "version": 3
   },
   "file_extension": ".py",
   "mimetype": "text/x-python",
   "name": "python",
   "nbconvert_exporter": "python",
   "pygments_lexer": "ipython3",
   "version": "3.8.5"
  },
  "toc": {
   "base_numbering": 1,
   "nav_menu": {},
   "number_sections": true,
   "sideBar": true,
   "skip_h1_title": false,
   "title_cell": "Table of Contents",
   "title_sidebar": "Contents",
   "toc_cell": false,
   "toc_position": {},
   "toc_section_display": true,
   "toc_window_display": false
  },
  "varInspector": {
   "cols": {
    "lenName": 16,
    "lenType": 16,
    "lenVar": 40
   },
   "kernels_config": {
    "python": {
     "delete_cmd_postfix": "",
     "delete_cmd_prefix": "del ",
     "library": "var_list.py",
     "varRefreshCmd": "print(var_dic_list())"
    },
    "r": {
     "delete_cmd_postfix": ") ",
     "delete_cmd_prefix": "rm(",
     "library": "var_list.r",
     "varRefreshCmd": "cat(var_dic_list()) "
    }
   },
   "types_to_exclude": [
    "module",
    "function",
    "builtin_function_or_method",
    "instance",
    "_Feature"
   ],
   "window_display": false
  }
 },
 "nbformat": 4,
 "nbformat_minor": 4
}
